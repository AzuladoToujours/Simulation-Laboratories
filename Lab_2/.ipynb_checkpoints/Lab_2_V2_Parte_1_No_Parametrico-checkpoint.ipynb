{
 "cells": [
  {
   "cell_type": "markdown",
   "metadata": {},
   "source": [
    "# Laboratorio 2 - Parte 1\n",
    "\n",
    "### Modelos no paramétricos\n",
    "\n",
    "### 2019-I\n",
    "\n",
    "#### Profesor: Julián D. Arias Londoño\n",
    "#### julian.ariasl@udea.edu.co\n"
   ]
  },
  {
   "cell_type": "markdown",
   "metadata": {},
   "source": [
    "## Guía del laboratorio\n",
    "\n",
    "En esta archivo va a encontrar tanto celdas de código cómo celdas de texto con las instrucciones para desarrollar el laboratorio.\n",
    "\n",
    "Lea atentamente las instrucciones entregadas en las celdas de texto correspondientes y proceda con la solución de las preguntas planteadas.\n",
    "\n",
    "Nota: no olvide ir ejecutando las celdas de código de arriba hacia abajo para que no tenga errores de importación de librerías o por falta de definición de variables."
   ]
  },
  {
   "cell_type": "code",
   "execution_count": null,
   "metadata": {},
   "outputs": [],
   "source": [
    "#Tomado de https://github.com/rramosp/mooc-grader\n",
    "from Autentication import *#python 3\n",
    "import inspect, urllib\n",
    "html, auth_code, userinfo = google_authenticate(PORT_NUMBER=8080)\n",
    "html\n"
   ]
  },
  {
   "cell_type": "markdown",
   "metadata": {},
   "source": [
    "#### Segundo integrante\n",
    "Nombre:"
   ]
  },
  {
   "cell_type": "code",
   "execution_count": 1,
   "metadata": {},
   "outputs": [],
   "source": [
    "from __future__ import division\n",
    "\n",
    "%matplotlib inline\n",
    "import numpy as np\n",
    "import matplotlib.pyplot as plt\n",
    "\n",
    "\n",
    "#Algunas advertencias que queremos evitar\n",
    "import warnings\n",
    "warnings.filterwarnings(\"always\")"
   ]
  },
  {
   "cell_type": "markdown",
   "metadata": {},
   "source": [
    "## Ejercicio 1: Generar muestras\n",
    "\n",
    "Genere un conjunto de 1000 muestras artificiales con una distribución que corresponda a la suma de dos Gaussiana con diferente media, ambas de una sola dimension. Grafique el histograma de los datos generados. (`plt.hist()`)"
   ]
  },
  {
   "cell_type": "code",
   "execution_count": 15,
   "metadata": {},
   "outputs": [
    {
     "data": {
      "image/png": "[encoded data removed]",
      "text/plain": [
       "<Figure size 432x288 with 1 Axes>"
      ]
     },
     "metadata": {},
     "output_type": "display_data"
    },
    {
     "name": "stdout",
     "output_type": "stream",
     "text": [
      "(1000,)\n"
     ]
    }
   ],
   "source": [
    "media1 = 5\n",
    "media2 = 10\n",
    "desviacion = 0.7\n",
    "gau1 = np.random.normal(media1,desviacion,1000)\n",
    "gau2 = np.random.normal(media2,desviacion,1000)\n",
    "gauAll = gau1 + gau2\n",
    "plt.hist(gauAll)\n",
    "plt.show()\n",
    "print(gauAll.shape)"
   ]
  },
  {
   "cell_type": "markdown",
   "metadata": {},
   "source": [
    "## Ejercicio 2: Contextualización del problema\n",
    "\n",
    "Para el problema de regresion usaremos la misma base de datos del laboratorio anterior `AirQuality.data`. Esta es la base de datos del UCI Machine Learning Repository. En el siguiente URL se encuentra toda la descripción de la base de datos del problema http://archive.ics.uci.edu/ml/datasets/air+quality. Ejecute la siguiente celda para cargar los datos."
   ]
  },
  {
   "cell_type": "code",
   "execution_count": 16,
   "metadata": {},
   "outputs": [],
   "source": [
    "#Cargamos la bd que está en un archivo .data y ahora la podemos manejar de forma matricial\n",
    "db = np.loadtxt('DB/AirQuality.data',delimiter='\\t')  # Assuming tab-delimiter\n",
    "\n",
    "\n",
    "#X: Toma las primeras 5000 filas(muestras) y las columnas 0-11 (carácteristicas)\n",
    "X = db[:5000,0:12]\n",
    "\n",
    "#Y: Toma las primeras 5000 filas y la columna 12, corresponde a la salida de la regresión\n",
    "Y = db[:5000,12]"
   ]
  },
  {
   "cell_type": "markdown",
   "metadata": {},
   "source": [
    "Describa cómo esta construida la base de datos utilizada en el problema de regresión: \n",
    "\n",
    "2.1 ¿Cuántas muestras hay en total?:"
   ]
  },
  {
   "cell_type": "code",
   "execution_count": 17,
   "metadata": {},
   "outputs": [
    {
     "data": {
      "text/plain": [
       "5000"
      ]
     },
     "execution_count": 17,
     "metadata": {},
     "output_type": "execute_result"
    }
   ],
   "source": [
    "np.size(X,0)"
   ]
  },
  {
   "cell_type": "markdown",
   "metadata": {},
   "source": [
    "2.2 ¿Cuántas características tiene el problema?:"
   ]
  },
  {
   "cell_type": "code",
   "execution_count": 18,
   "metadata": {},
   "outputs": [
    {
     "data": {
      "text/plain": [
       "12"
      ]
     },
     "execution_count": 18,
     "metadata": {},
     "output_type": "execute_result"
    }
   ],
   "source": [
    "np.size(X,1)"
   ]
  },
  {
   "cell_type": "markdown",
   "metadata": {},
   "source": [
    "## Ejercicio 3: Completar código de K-Vecinos\n",
    "\n",
    "Analice los siguientes métodos de la teoría vista para los modelos de *K-vecinos más cercanos (KNN)* y complete el código del método KNN.\n",
    "\n",
    "<b>Nota</b>: Para el cáculo de la distancia entre vectores tienen dos opciones, usar la función la distancia euclidiana `scipy.spatial.distance.euclidean`([Ejemplo](https://docs.scipy.org/doc/scipy/reference/generated/scipy.spatial.distance.euclidean.html)) o usar la función `numpy.linalg.norm`([Ejemplo](https://docs.scipy.org/doc/numpy/reference/generated/numpy.linalg.norm.html)). Revisen la documentación para comprender su uso. También serán de utilidad las funciones `numpy.sort` y `numpy.argsort`.\n"
   ]
  },
  {
   "cell_type": "code",
   "execution_count": 108,
   "metadata": {},
   "outputs": [],
   "source": [
    "import scipy as sc\n",
    "import operator\n",
    "from scipy.spatial import distance\n",
    "from scipy.spatial import distance_matrix\n",
    "\n",
    "def KNN(X_train, Y_train, X_test, k, tipo):\n",
    "    \n",
    "    #X_train: Matriz con las muestras de entrenamiento\n",
    "    #Y_train: Vector con los valores de salida pra cada una de las muestras de entrenamiento\n",
    "    \n",
    "    #X_val: Matriz con las muestras de validación\n",
    "    #tipo: Bandera que indica si el problema es de regresión o de clasificación.\n",
    "    tipo = tipo\n",
    "    \n",
    "    #Parámetro k que equivale al número de vecinos a tener en cuenta para resolver el problema de \n",
    "    #predicción de la variable de salida\n",
    "    k = k \n",
    "    Nt = len(X_test)\n",
    "    Y_test = np.zeros(Nt)\n",
    "    for i in range(np.size(Xtest,0)):\n",
    "        Di = distance_matrix(X_test[i].reshape(1,np.size(X_test[i],0)),X_train)[0]\n",
    "        indexLess = np.argsort(Di)\n",
    "        kindexLess = indexLess[0:k]\n",
    "        Y_test[i] = np.mean(Y_train[kindexLess])\n",
    "    #Debe retornar un vector que contenga las predicciones para cada una de las muestras en X_test, en el mismo orden.  \n",
    "    return Y_test "
   ]
  },
  {
   "cell_type": "markdown",
   "metadata": {},
   "source": [
    "## Ejercicio 4: Entrenamiento y pruebas\n",
    "\n",
    "Una vez haya completado el codigo del método de KNN:\n",
    "1. Ejecute varias veces el proceso de entrenamiento y validación cambiando el parametro  $k$ que corresponde al número de vecinos\n",
    "2. Completar la tabla de resultados con el error MAPE y la desviación estándar."
   ]
  },
  {
   "cell_type": "code",
   "execution_count": 109,
   "metadata": {},
   "outputs": [],
   "source": [
    "\"\"\"\n",
    "Mean Absolute Percentage Error para los problemas de regresión\n",
    "\"\"\"\n",
    "def MAPE(Y_est,Y):\n",
    "    N = np.size(Y)\n",
    "    mape = np.sum(abs((Y_est.reshape(N,1) - Y.reshape(N,1))/Y.reshape(N,1)))/N\n",
    "    return mape \n",
    "\n",
    "\n",
    "\"\"\"\n",
    "Calcular el error en clasificación\n",
    "\"\"\"\n",
    "def error(Y_lest, Y):\n",
    "    \n",
    "    error = 0\n",
    "    for ye, y in zip(Y_lest, Y):\n",
    "        if ye != y:\n",
    "            error += 1\n",
    "    \n",
    "    error = error/np.size(Y)\n",
    "    \n",
    "    return error"
   ]
  },
  {
   "cell_type": "code",
   "execution_count": 119,
   "metadata": {},
   "outputs": [
    {
     "name": "stdout",
     "output_type": "stream",
     "text": [
      "\n",
      "Error durante la prueba k=2 0.3630095013508765+-0.006140024361192514\n"
     ]
    }
   ],
   "source": [
    "from numpy import random\n",
    "import math\n",
    "from scipy import stats\n",
    "from scipy.spatial import distance_matrix\n",
    "\n",
    "N = np.size(X,0)\n",
    "\n",
    "#Entrenamiento y validación del modelo\n",
    "random.seed(1)\n",
    "Error = np.zeros(2)\n",
    "\n",
    "for j in range(2):    \n",
    "    ind=np.random.permutation(N)\n",
    "    Xtrain = X[ind[0:int(math.ceil(0.7*N))],:]\n",
    "    Xtest = X[ind[int(math.ceil(0.7*N)):N],:]\n",
    "    Ytrain = Y[ind[0:int(math.ceil(0.7*N))]]\n",
    "    Ytest = Y[ind[int(math.ceil(0.7*N)):N]]\n",
    "\n",
    "    #Normalizamos los datos\n",
    "    media = np.mean(Xtrain)\n",
    "    desvia = np.std(Xtrain)\n",
    "    Xtrain = sc.stats.stats.zscore(Xtrain)\n",
    "    Xtest = (Xtest - np.matlib.repmat(media, Xtest.shape[0], 1))/np.matlib.repmat(desvia, Xtest.shape[0], 1)\n",
    "\n",
    "    #Complete con el llamado apropiado de la función que Uds diseñaron \n",
    "    #(X_train, Y_train, X_val, k, tipo)\n",
    "    Yest = KNN(Xtrain,Ytrain,Xtest,int(2),1212)\n",
    "    \n",
    "    #Evaluamos las predicciones del modelo con los datos de test\n",
    "    Error[j] = MAPE(Yest,Ytest)    \n",
    "\n",
    "mape = np.mean(Error)\n",
    "std = np.std(Error)\n",
    "\n",
    "print('\\nError durante la prueba k=2 ' +  str(mape) + '+-' + str(std))"
   ]
  },
  {
   "cell_type": "markdown",
   "metadata": {},
   "source": [
    "Responda:\n",
    "\n",
    "4.1 ¿Qué metodología de validación se usa en el experimento?"
   ]
  },
  {
   "cell_type": "markdown",
   "metadata": {},
   "source": [
    "**R//:** Bootstrapping  El Booststrapping es una forma diferente de muestrear la base de\n",
    "datos.\n",
    "Primer se define un porcentaje de muestras que se desean usar para\n",
    "el entrenamiento del sistema, tı́picamente se usan al rededor de un\n",
    "70% para entrenamiento y 30% para la validación.\n",
    "\n",
    "En la medida en que el número de muestras es más grande, dichos\n",
    "porcentajes se pueden llevar a una relación 50-50.\n",
    "\n",
    "El procedimiento de validación consiste entonces en partir la muestra\n",
    "de manera aleatoria en los porcentajes indicados, entrenar y validar\n",
    "el sistema y volver a repetir el procedimiento seleccionando\n",
    "nuevamente de manera aleatoria conjuntos diferentes. El\n",
    "procedimiento se repite varias veces para poder tener buenas\n",
    "estimaciones del error promedio."
   ]
  },
  {
   "cell_type": "markdown",
   "metadata": {},
   "source": [
    "4.2 ¿Cuántas muestras se usan para el entrenamiento?"
   ]
  },
  {
   "cell_type": "code",
   "execution_count": 120,
   "metadata": {},
   "outputs": [
    {
     "data": {
      "text/plain": [
       "3500"
      ]
     },
     "execution_count": 120,
     "metadata": {},
     "output_type": "execute_result"
    }
   ],
   "source": [
    "np.size(Xtrain,0)"
   ]
  },
  {
   "cell_type": "markdown",
   "metadata": {},
   "source": [
    "4.3 ¿Cuántas muestras se usan para la validación?"
   ]
  },
  {
   "cell_type": "code",
   "execution_count": 121,
   "metadata": {},
   "outputs": [
    {
     "data": {
      "text/plain": [
       "1500"
      ]
     },
     "execution_count": 121,
     "metadata": {},
     "output_type": "execute_result"
    }
   ],
   "source": [
    "np.size(Xtest,0)"
   ]
  },
  {
   "cell_type": "markdown",
   "metadata": {},
   "source": [
    "#### Tabla de resultados"
   ]
  },
  {
   "cell_type": "markdown",
   "metadata": {},
   "source": [
    "Ejecute la siguiente instrucción para dejar guardados en el notebook los resultados de las pruebas."
   ]
  },
  {
   "cell_type": "code",
   "execution_count": 141,
   "metadata": {},
   "outputs": [],
   "source": [
    "from numpy import random\n",
    "import math\n",
    "from scipy import stats\n",
    "from scipy.spatial import distance_matrix\n",
    "def Entrenamiento(k):\n",
    "    N = np.size(X,0)\n",
    "    #Entrenamiento y validación del modelo\n",
    "    random.seed(1)\n",
    "    Error = np.zeros(2)\n",
    "    for j in range(2):    \n",
    "        ind=np.random.permutation(N)\n",
    "        Xtrain = X[ind[0:int(math.ceil(0.7*N))],:]\n",
    "        Xtest = X[ind[int(math.ceil(0.7*N)):N],:]\n",
    "        Ytrain = Y[ind[0:int(math.ceil(0.7*N))]]\n",
    "        Ytest = Y[ind[int(math.ceil(0.7*N)):N]]\n",
    "\n",
    "        #Normalizamos los datos\n",
    "        media = np.mean(Xtrain)\n",
    "        desvia = np.std(Xtrain)\n",
    "        Xtrain = sc.stats.stats.zscore(Xtrain)\n",
    "        Xtest = (Xtest - np.matlib.repmat(media, Xtest.shape[0], 1))/np.matlib.repmat(desvia, Xtest.shape[0], 1)\n",
    "\n",
    "        #Complete con el llamado apropiado de la función que Uds diseñaron \n",
    "        #(X_train, Y_train, X_val, k, tipo)\n",
    "        Yest = KNN(Xtrain,Ytrain,Xtest,k,1212)\n",
    "\n",
    "        #Evaluamos las predicciones del modelo con los datos de test\n",
    "        Error[j] = MAPE(Yest,Ytest)    \n",
    "\n",
    "    mape = np.mean(Error)\n",
    "    std = np.std(Error)\n",
    "\n",
    "    #print('\\nError durante la prueba k=2 ' +  str(mape) + '+-' + str(std))\n",
    "    return mape,std"
   ]
  },
  {
   "cell_type": "code",
   "execution_count": 179,
   "metadata": {},
   "outputs": [
    {
     "data": {
      "text/html": [
       "<div>\n",
       "<style scoped>\n",
       "    .dataframe tbody tr th:only-of-type {\n",
       "        vertical-align: middle;\n",
       "    }\n",
       "\n",
       "    .dataframe tbody tr th {\n",
       "        vertical-align: top;\n",
       "    }\n",
       "\n",
       "    .dataframe thead th {\n",
       "        text-align: right;\n",
       "    }\n",
       "</style>\n",
       "<table border=\"1\" class=\"dataframe\">\n",
       "  <thead>\n",
       "    <tr style=\"text-align: right;\">\n",
       "      <th></th>\n",
       "      <th>Error_Prueba</th>\n",
       "      <th>Desviación estándar del error</th>\n",
       "    </tr>\n",
       "    <tr>\n",
       "      <th>Numero de vecinos</th>\n",
       "      <th></th>\n",
       "      <th></th>\n",
       "    </tr>\n",
       "  </thead>\n",
       "  <tbody>\n",
       "    <tr>\n",
       "      <th>1</th>\n",
       "      <td>0.3840372997747079</td>\n",
       "      <td>0.016497301273993348</td>\n",
       "    </tr>\n",
       "    <tr>\n",
       "      <th>100</th>\n",
       "      <td>0.26879661924012493</td>\n",
       "      <td>0.005340544195603092</td>\n",
       "    </tr>\n",
       "    <tr>\n",
       "      <th>2</th>\n",
       "      <td>0.3630095013508765</td>\n",
       "      <td>0.006140024361192514</td>\n",
       "    </tr>\n",
       "    <tr>\n",
       "      <th>3</th>\n",
       "      <td>0.3497424913566185</td>\n",
       "      <td>0.0023601226154101596</td>\n",
       "    </tr>\n",
       "    <tr>\n",
       "      <th>4</th>\n",
       "      <td>0.34117124804036614</td>\n",
       "      <td>0.004561202028195682</td>\n",
       "    </tr>\n",
       "    <tr>\n",
       "      <th>5</th>\n",
       "      <td>0.33365100995901664</td>\n",
       "      <td>0.0027102869335308977</td>\n",
       "    </tr>\n",
       "    <tr>\n",
       "      <th>6</th>\n",
       "      <td>0.3252859355963996</td>\n",
       "      <td>0.001992847379454543</td>\n",
       "    </tr>\n",
       "    <tr>\n",
       "      <th>7</th>\n",
       "      <td>0.3201103542753637</td>\n",
       "      <td>0.0007978802015047026</td>\n",
       "    </tr>\n",
       "  </tbody>\n",
       "</table>\n",
       "</div>"
      ],
      "text/plain": [
       "                          Error_Prueba Desviación estándar del error\n",
       "Numero de vecinos                                                   \n",
       "1                   0.3840372997747079          0.016497301273993348\n",
       "100                0.26879661924012493          0.005340544195603092\n",
       "2                   0.3630095013508765          0.006140024361192514\n",
       "3                   0.3497424913566185         0.0023601226154101596\n",
       "4                  0.34117124804036614          0.004561202028195682\n",
       "5                  0.33365100995901664         0.0027102869335308977\n",
       "6                   0.3252859355963996          0.001992847379454543\n",
       "7                   0.3201103542753637         0.0007978802015047026"
      ]
     },
     "execution_count": 179,
     "metadata": {},
     "output_type": "execute_result"
    }
   ],
   "source": [
    "import pandas as pd\n",
    "import qgrid\n",
    "randn = np.random.randn\n",
    "df_types = pd.DataFrame({\n",
    "    'Numero de vecinos' : pd.Series(['1', '2', '3', '4', '5', '6', '7', '100'])})\n",
    "df_types[\"Error_Prueba\"] = \"\"\n",
    "df_types[\"Desviación estándar del error\"] = \"\"\n",
    "df_types.set_index(['Numero de vecinos'], inplace=True)\n",
    "cont = 0\n",
    "for i in df_types.index:\n",
    "    errorPrueba, desviacion = Entrenamiento(int(i))\n",
    "    df_types[\"Error_Prueba\"][cont] = str(errorPrueba)\n",
    "    df_types[\"Desviación estándar del error\"][cont] = str(desviacion)\n",
    "    cont =cont +1\n",
    "df_types.sort_index(inplace=True)\n",
    "qgrid_widget = qgrid.show_grid(df_types, show_toolbar=False)\n",
    "qgrid_widget\n",
    "qgrid_widget.get_changed_df()"
   ]
  },
  {
   "cell_type": "markdown",
   "metadata": {},
   "source": [
    "## Ejercicio 5: Ventana de Parzen\n",
    "\n",
    "Resolver el mismo problema de regresión, pero con el modelo de *Ventana de Parzen*. Se debe completar el código de la función <font color='blue'>Nadaraya-Watson</font>  Recuerde la función de densidad de probabilidad con la ventana de Parzen.\n",
    "$$f({\\bf{x}}^*) = \\frac{1}{N h^d} \\sum_{i=1}^{N} K(u_i), \\;\\; u_i = \\frac{d({\\bf{x}}^*,{\\bf{x}}_i)}{h}$$\n",
    "\n",
    "\n",
    "Nota: Los métodos `dist_euclidiana` y ECM continuan siendo válidos para el modelo ventana de Parzen.\n"
   ]
  },
  {
   "cell_type": "markdown",
   "metadata": {},
   "source": [
    "<li>Estimador de Nadaraya-Watson: $$y^* = \\frac{\\sum_{i=1}^N K(u_i)y_i}{\\sum_{i=1}^N K(u_i)}, \\;\\; u_i = \\frac{d({\\bf{x}}^*,{\\bf{x}}_i)}{h}$$\n",
    "</li>"
   ]
  },
  {
   "cell_type": "code",
   "execution_count": 195,
   "metadata": {},
   "outputs": [],
   "source": [
    "np.seterr(all='ignore') \n",
    "def kernel_gaussiano(x):\n",
    "    return (np.exp((-0.5)*x**2))\n",
    "\n",
    "def Nadaraya_Watson(X_train, Y_train, X_val, ancho_h ):\n",
    "    \n",
    "    h = ancho_h    #Parámetro h que equivale al ancho de la ventana o kernel\n",
    "    Nv = len(X_val)\n",
    "    Y_val = np.zeros(Nv)\n",
    "    for i in range(np.size(X_val,0)):\n",
    "        Di = distance_matrix(X_val[i].reshape(1,np.size(X_val[i],0)),X_train)[0]\n",
    "        Di = Di.reshape(np.size(Di,0),1)        \n",
    "        Ui = Di/h  \n",
    "        Kui = kernel_gaussiano(Ui)\n",
    "        numerador = np.sum(np.multiply(Kui,Y_train.reshape(np.size(Y_train),1)))\n",
    "        denominador =np.sum(Kui)\n",
    "        Y_val[i] = numerador/denominador        \n",
    "    #Debe retornar un vector que contenga las predicciones para cada una de las muestras en X_val, en el mismo orden.      \n",
    "    return Y_val\n"
   ]
  },
  {
   "cell_type": "code",
   "execution_count": 203,
   "metadata": {},
   "outputs": [
    {
     "name": "stdout",
     "output_type": "stream",
     "text": [
      "\n",
      "Error durante la prueba h = 0.9  -->0.30111035388439256+-0.0031344056092405814\n"
     ]
    }
   ],
   "source": [
    "from numpy import random\n",
    "import math\n",
    "from scipy import stats\n",
    "from scipy.spatial import distance_matrix\n",
    "\n",
    "N = np.size(X,0)\n",
    "\n",
    "#Entrenamiento y validación del modelo\n",
    "random.seed(1)\n",
    "Error = np.zeros(2)\n",
    "\n",
    "for j in range(2):    \n",
    "    ind=np.random.permutation(N)\n",
    "    Xtrain = X[ind[0:int(math.ceil(0.7*N))],:]\n",
    "    Xtest = X[ind[int(math.ceil(0.7*N)):N],:]\n",
    "    Ytrain = Y[ind[0:int(math.ceil(0.7*N))]]\n",
    "    Ytest = Y[ind[int(math.ceil(0.7*N)):N]]\n",
    "\n",
    "    #Normalizamos los datos\n",
    "    media = np.mean(Xtrain)\n",
    "    desvia = np.std(Xtrain)\n",
    "    Xtrain = sc.stats.stats.zscore(Xtrain)\n",
    "    Xtest = (Xtest - np.matlib.repmat(media, Xtest.shape[0], 1))/np.matlib.repmat(desvia, Xtest.shape[0], 1)\n",
    "\n",
    "    #Complete con el llamado apropiado de la función que Uds diseñaron \n",
    "    #(X_train, Y_train, X_val, k, tipo)\n",
    "    Yest = Nadaraya_Watson(Xtrain,Ytrain,Xtest,0.9)\n",
    "    \n",
    "    #Evaluamos las predicciones del modelo con los datos de test\n",
    "    Error[j] = MAPE(Yest,Ytest)    \n",
    "\n",
    "mape = np.mean(Error)\n",
    "std = np.std(Error)\n",
    "\n",
    "print('\\nError durante la prueba h = 0.9  -->' +  str(mape) + '+-' + str(std))"
   ]
  },
  {
   "cell_type": "markdown",
   "metadata": {},
   "source": [
    "## Ejercicio 6: Entrenamiento y pruebas\n",
    "\n",
    "Una vez haya completado el codigo del método de Ventana de Parzen, ejecute varias veces el proceso de entrenamiento y validación cambiando el parametro $h$, que corresponde al ancho de la función kernel. Completar la siguiente tabla con los valores del error MAPE obtenidos y su desviación estándar:"
   ]
  },
  {
   "cell_type": "markdown",
   "metadata": {},
   "source": [
    "#### Tabla de resultados"
   ]
  },
  {
   "cell_type": "code",
   "execution_count": 197,
   "metadata": {},
   "outputs": [],
   "source": [
    "from numpy import random\n",
    "import math\n",
    "from scipy import stats\n",
    "from scipy.spatial import distance_matrix\n",
    "\n",
    "def EntrenamientoParzen(h):\n",
    "    N = np.size(X,0)\n",
    "    #Entrenamiento y validación del modelo\n",
    "    random.seed(1)\n",
    "    Error = np.zeros(2)\n",
    "\n",
    "    for j in range(2):    \n",
    "        ind=np.random.permutation(N)\n",
    "        Xtrain = X[ind[0:int(math.ceil(0.7*N))],:]\n",
    "        Xtest = X[ind[int(math.ceil(0.7*N)):N],:]\n",
    "        Ytrain = Y[ind[0:int(math.ceil(0.7*N))]]\n",
    "        Ytest = Y[ind[int(math.ceil(0.7*N)):N]]\n",
    "\n",
    "        #Normalizamos los datos\n",
    "        media = np.mean(Xtrain)\n",
    "        desvia = np.std(Xtrain)\n",
    "        Xtrain = sc.stats.stats.zscore(Xtrain)\n",
    "        Xtest = (Xtest - np.matlib.repmat(media, Xtest.shape[0], 1))/np.matlib.repmat(desvia, Xtest.shape[0], 1)\n",
    "\n",
    "        #Complete con el llamado apropiado de la función que Uds diseñaron \n",
    "        #(X_train, Y_train, X_val, k, tipo)\n",
    "        Yest = Nadaraya_Watson(Xtrain,Ytrain,Xtest,h)\n",
    "\n",
    "        #Evaluamos las predicciones del modelo con los datos de test\n",
    "        Error[j] = MAPE(Yest,Ytest)    \n",
    "\n",
    "        mape = np.mean(Error)\n",
    "        std = np.std(Error)\n",
    "    return mape,std"
   ]
  },
  {
   "cell_type": "code",
   "execution_count": 198,
   "metadata": {},
   "outputs": [
    {
     "data": {
      "text/html": [
       "<div>\n",
       "<style scoped>\n",
       "    .dataframe tbody tr th:only-of-type {\n",
       "        vertical-align: middle;\n",
       "    }\n",
       "\n",
       "    .dataframe tbody tr th {\n",
       "        vertical-align: top;\n",
       "    }\n",
       "\n",
       "    .dataframe thead th {\n",
       "        text-align: right;\n",
       "    }\n",
       "</style>\n",
       "<table border=\"1\" class=\"dataframe\">\n",
       "  <thead>\n",
       "    <tr style=\"text-align: right;\">\n",
       "      <th></th>\n",
       "      <th>Error_Prueba</th>\n",
       "      <th>Desviación estándar del error</th>\n",
       "    </tr>\n",
       "    <tr>\n",
       "      <th>Ancho del kernel</th>\n",
       "      <th></th>\n",
       "      <th></th>\n",
       "    </tr>\n",
       "  </thead>\n",
       "  <tbody>\n",
       "    <tr>\n",
       "      <th>0.1</th>\n",
       "      <td>0.3813005747268332</td>\n",
       "      <td>0.015731141225733464</td>\n",
       "    </tr>\n",
       "    <tr>\n",
       "      <th>0.9</th>\n",
       "      <td>0.30111035388439256</td>\n",
       "      <td>0.0031344056092405814</td>\n",
       "    </tr>\n",
       "    <tr>\n",
       "      <th>1</th>\n",
       "      <td>0.30522294039569686</td>\n",
       "      <td>0.003159218224823318</td>\n",
       "    </tr>\n",
       "    <tr>\n",
       "      <th>10</th>\n",
       "      <td>2.1427564244929034</td>\n",
       "      <td>0.15597858444551282</td>\n",
       "    </tr>\n",
       "    <tr>\n",
       "      <th>2</th>\n",
       "      <td>0.305480581722527</td>\n",
       "      <td>0.003943068384557213</td>\n",
       "    </tr>\n",
       "    <tr>\n",
       "      <th>3</th>\n",
       "      <td>0.299316519656669</td>\n",
       "      <td>0.004245154346174562</td>\n",
       "    </tr>\n",
       "    <tr>\n",
       "      <th>5</th>\n",
       "      <td>0.26443740714511743</td>\n",
       "      <td>0.003381117045310217</td>\n",
       "    </tr>\n",
       "  </tbody>\n",
       "</table>\n",
       "</div>"
      ],
      "text/plain": [
       "                         Error_Prueba Desviación estándar del error\n",
       "Ancho del kernel                                                   \n",
       "0.1                0.3813005747268332          0.015731141225733464\n",
       "0.9               0.30111035388439256         0.0031344056092405814\n",
       "1                 0.30522294039569686          0.003159218224823318\n",
       "10                 2.1427564244929034           0.15597858444551282\n",
       "2                   0.305480581722527          0.003943068384557213\n",
       "3                   0.299316519656669          0.004245154346174562\n",
       "5                 0.26443740714511743          0.003381117045310217"
      ]
     },
     "execution_count": 198,
     "metadata": {},
     "output_type": "execute_result"
    }
   ],
   "source": [
    "randn = np.random.randn\n",
    "df_types2 = pd.DataFrame({\n",
    "    'Ancho del kernel' : pd.Series(['0.1', '0.9', '1', '2', '3', '5', '10'])})\n",
    "df_types2[\"Error_Prueba\"] = \"\"\n",
    "df_types2[\"Desviación estándar del error\"] = \"\"\n",
    "df_types2.set_index(['Ancho del kernel'], inplace=True)\n",
    "cont = 0\n",
    "for i in df_types2.index:\n",
    "    errorPrueba, desviacion = EntrenamientoParzen(float(i))\n",
    "    df_types2[\"Error_Prueba\"][cont] = str(errorPrueba)\n",
    "    df_types2[\"Desviación estándar del error\"][cont] = str(desviacion)\n",
    "    cont =cont +1\n",
    "df_types2.sort_index(inplace=True)\n",
    "qgrid_widget = qgrid.show_grid(df_types2, show_toolbar=False)\n",
    "qgrid_widget\n",
    "qgrid_widget.get_changed_df()"
   ]
  },
  {
   "cell_type": "markdown",
   "metadata": {},
   "source": [
    "Ejecute la siguiente instrucción para dejar guardados en el notebook los resultados de las pruebas."
   ]
  },
  {
   "cell_type": "markdown",
   "metadata": {},
   "source": [
    "Responda:\n",
    "\n",
    "6.1 Si intenta repetir la prueba anterior para un $h = 0.05$ el algoritmo falla. ¿Cuál es la causa de la falla?:"
   ]
  },
  {
   "cell_type": "markdown",
   "metadata": {},
   "source": [
    "<li>Estimador de Nadaraya-Watson: $$y^* = \\frac{\\sum_{i=1}^N K(u_i)y_i}{\\sum_{i=1}^N K(u_i)}, \\;\\; u_i = \\frac{d({\\bf{x}}^*,{\\bf{x}}_i)}{h}$$\n",
    "</li>"
   ]
  },
  {
   "cell_type": "code",
   "execution_count": 204,
   "metadata": {},
   "outputs": [
    {
     "data": {
      "text/plain": [
       "(nan, nan)"
      ]
     },
     "execution_count": 204,
     "metadata": {},
     "output_type": "execute_result"
    }
   ],
   "source": [
    "EntrenamientoParzen(0.05)"
   ]
  },
  {
   "cell_type": "markdown",
   "metadata": {},
   "source": [
    "**R//** Si el valor de h se hace más pequeño, la función se hace más aguda en cada uno de los puntos del conjunto de entrenamiento tendiendo a cero el peso asignado, debido a que exigue una similitud más estricta. Por lo tanto se presenta un división por cero en el estimador de Nadaraya-Watson."
   ]
  },
  {
   "cell_type": "markdown",
   "metadata": {},
   "source": [
    "6.2 ¿Cómo evito que se presente la excepción?:"
   ]
  },
  {
   "cell_type": "markdown",
   "metadata": {},
   "source": [
    "**R//** "
   ]
  }
 ],
 "metadata": {
  "kernelspec": {
   "display_name": "Python 3",
   "language": "python",
   "name": "python3"
  },
  "language_info": {
   "codemirror_mode": {
    "name": "ipython",
    "version": 3
   },
   "file_extension": ".py",
   "mimetype": "text/x-python",
   "name": "python",
   "nbconvert_exporter": "python",
   "pygments_lexer": "ipython3",
   "version": "3.6.5"
  }
 },
 "nbformat": 4,
 "nbformat_minor": 2
}
