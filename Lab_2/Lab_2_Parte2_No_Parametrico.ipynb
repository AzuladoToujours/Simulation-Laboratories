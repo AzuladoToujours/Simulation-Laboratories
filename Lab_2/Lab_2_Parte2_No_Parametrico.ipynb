{
 "cells": [
  {
   "cell_type": "markdown",
   "metadata": {},
   "source": [
    "# Laboratorio 2 - Parte 2\n",
    "\n",
    "### Modelos no paramétricos\n",
    "\n",
    "### 2019-I\n",
    "\n",
    "#### Profesor: Julián D. Arias Londoño\n",
    "#### julian.ariasl@udea.edu.co\n"
   ]
  },
  {
   "cell_type": "markdown",
   "metadata": {},
   "source": [
    "## Guía del laboratorio\n",
    "\n",
    "En esta archivo va a encontrar tanto celdas de código cómo celdas de texto con las instrucciones para desarrollar el laboratorio.\n",
    "\n",
    "Lea atentamente las instrucciones entregadas en las celdas de texto correspondientes y proceda con la solución de las preguntas planteadas.\n",
    "\n",
    "Nota: no olvide ir ejecutando las celdas de código de arriba hacia abajo para que no tenga errores de importación de librerías o por falta de definición de variables."
   ]
  },
  {
   "cell_type": "code",
   "execution_count": null,
   "metadata": {},
   "outputs": [],
   "source": [
    "#Tomado de https://github.com/rramosp/mooc-grader\n",
    "from Autentication import *#python 3\n",
    "import inspect, urllib\n",
    "html, auth_code, userinfo = google_authenticate(PORT_NUMBER=8080)\n",
    "html"
   ]
  },
  {
   "cell_type": "markdown",
   "metadata": {},
   "source": [
    "#### Segundo integrante\n",
    "Nombre:"
   ]
  },
  {
   "cell_type": "code",
   "execution_count": 2,
   "metadata": {},
   "outputs": [],
   "source": [
    "from __future__ import division\n",
    "%matplotlib inline\n",
    "import numpy as np\n",
    "import scipy as sc\n",
    "import matplotlib.pyplot as plt\n",
    "\n",
    "\n",
    "#Evitar algunas advertencias\n",
    "import warnings\n",
    "warnings.filterwarnings(\"always\")"
   ]
  },
  {
   "cell_type": "markdown",
   "metadata": {},
   "source": [
    "## Ejercicio 1: Contextualización del problema\n",
    "\n",
    "\n",
    "Usaremos el dataset iris para el problema de clasificación, desde la librería sklearn. En el UCI Machine Learning Repository se encuentra más información en el siguiente [link](https://archive.ics.uci.edu/ml/datasets/iris) ."
   ]
  },
  {
   "cell_type": "code",
   "execution_count": 163,
   "metadata": {},
   "outputs": [],
   "source": [
    "#cargamos la bd iris desde el dataset de sklearn\n",
    "from sklearn import datasets\n",
    "\n",
    "iris = datasets.load_iris()\n",
    "\n",
    "\n",
    "X, Y = iris.data, iris.target"
   ]
  },
  {
   "cell_type": "markdown",
   "metadata": {},
   "source": [
    "Responda las siguientes preguntas: \n",
    "\n",
    "1.1 ¿Cu&aacute;ntas clases tiene el problema?:\n"
   ]
  },
  {
   "cell_type": "code",
   "execution_count": 164,
   "metadata": {},
   "outputs": [
    {
     "name": "stdout",
     "output_type": "stream",
     "text": [
      "El problema tiene 3 clases en total\n"
     ]
    }
   ],
   "source": [
    "nClass = np.size(np.unique(Y),0)\n",
    "print(\"El problema tiene\", str(nClass),\"clases en total\")"
   ]
  },
  {
   "cell_type": "markdown",
   "metadata": {},
   "source": [
    "1.2 ¿Cu&aacute;ntas caracter&iacute;sticas tiene el problema?:"
   ]
  },
  {
   "cell_type": "code",
   "execution_count": 165,
   "metadata": {},
   "outputs": [
    {
     "name": "stdout",
     "output_type": "stream",
     "text": [
      "El problema tiene 4 características en total\n"
     ]
    }
   ],
   "source": [
    "nFeatures = np.size(X,1)\n",
    "print(\"El problema tiene\", str(nFeatures),\"características en total\")"
   ]
  },
  {
   "cell_type": "markdown",
   "metadata": {},
   "source": [
    "1.3 ¿Cu&aacute;ntas muestras tiene el problema?:"
   ]
  },
  {
   "cell_type": "code",
   "execution_count": 166,
   "metadata": {},
   "outputs": [
    {
     "name": "stdout",
     "output_type": "stream",
     "text": [
      "El problema tiene 150 muestras en total\n"
     ]
    }
   ],
   "source": [
    "nSamples = np.size(X,0)\n",
    "print(\"El problema tiene\", str(nSamples),\"muestras en total\")"
   ]
  },
  {
   "cell_type": "markdown",
   "metadata": {},
   "source": [
    "1.4 ¿Cu&aacute;ntas muestras por cada clase hay en la base de datos?:"
   ]
  },
  {
   "cell_type": "code",
   "execution_count": 167,
   "metadata": {},
   "outputs": [
    {
     "name": "stdout",
     "output_type": "stream",
     "text": [
      "De la clase 1 hay 50 muestras en total\n",
      "De la clase 2 hay 50 muestras en total\n",
      "De la clase 3 hay 50 muestras en total\n"
     ]
    }
   ],
   "source": [
    "class1 = X[Y==0]\n",
    "class2 = X[Y==1]\n",
    "class3 = X[Y==2]\n",
    "print(\"De la clase 1 hay\",str(np.size(class1,0)),\"muestras en total\")\n",
    "print(\"De la clase 2 hay\",str(np.size(class2,0)),\"muestras en total\")\n",
    "print(\"De la clase 3 hay\",str(np.size(class3,0)),\"muestras en total\")"
   ]
  },
  {
   "cell_type": "markdown",
   "metadata": {},
   "source": [
    "## Ejercicio 2: Completar código KNN\n",
    "\n",
    "Analice los siguientes métodos de la teoría vista para los modelos de *K-vecinos más cercanos (KNN)* y complete el código del método KNN.\n",
    "\n",
    "<b>Nota</b>: Para el cáculo de la distancia entre vectores tienen dos opciones, usar la función la distancia euclidiana `scipy.spatial.distance.euclidean`([Ejemplo](https://docs.scipy.org/doc/scipy/reference/generated/scipy.spatial.distance.euclidean.html)) o usar la función `numpy.linalg.norm`([Ejemplo](https://docs.scipy.org/doc/numpy/reference/generated/numpy.linalg.norm.html)). Revisen la documentación para comprender su uso. También serán de utilidad las funciones `numpy.sort` y `numpy.argsort`.\n",
    "\n",
    "\n",
    "<b>Nota</b>: Para el cáculo de la distancia entre vectores tienen dos opciones, usar la función scipy.spatial.distance.euclidean o usar la función numpy.linalg.norm. <b>Revisen la documentación </b> para comprender su uso. También serán de utilidad las funciones numpy.sort y numpy.argsort."
   ]
  },
  {
   "cell_type": "code",
   "execution_count": 168,
   "metadata": {},
   "outputs": [],
   "source": [
    "from scipy import stats\n",
    "import operator\n",
    "#Con la siguiente libreria podremos calcular las distacias entre dos matrices\n",
    "from scipy.spatial import distance_matrix \n",
    "\n",
    "#Para calcular el error en los problemas de clasificación\n",
    "def ErrorClas(Y_lest, Y):\n",
    "    error = 1 - np.sum(Y_lest == Y)/len(Y)\n",
    "    \n",
    "    return error\n",
    "\n",
    "\n",
    "def KNN(X_train, Y_train, X_val, k, tipo):\n",
    "    #X_train: Matriz con las muestras de entrenamiento\n",
    "    #Y_train: Vector con los valores de salida pra cada una de las muestras de entrenamiento\n",
    "    \n",
    "    #X_val: Matriz con las muestras de validación\n",
    "    #tipo: Bandera que indica si el problema es de regresión o de clasificación.\n",
    "    tipo = tipo\n",
    "    \n",
    "    #Parámetro k que equivale al número de vecinos a tener en cuenta para resolver el problema de \n",
    "    #predicción de la variable de salida\n",
    "    k = k \n",
    "    Nt = len(X_val)\n",
    "    Y_test = np.zeros(Nt)\n",
    "    #Para cada muestra a predecir calculamos la distancia respecto a al conjunto de entrenamiento\n",
    "    for i in range(np.size(X_val,0)):\n",
    "        #Seleccionamos  cada fila de la matriz de prueba\n",
    "        Xi = X_val[i].reshape(1,np.size(X_val[i],0)) \n",
    "        #Calculamos las distancias utilizando  distance_matrix el cual devuelve una matriz de distancias\n",
    "        Di = distance_matrix(Xi, X_train)[0]\n",
    "        # Con el metodo argsort ordenamos los indices\n",
    "        indexLess = np.argsort(Di)\n",
    "        # Seleccionamos los indices de las k menores distancias\n",
    "        KindexLess = indexLess[0:k]\n",
    "        if tipo == 2: ## Si es 2 es clasificación\n",
    "            # Tomamos los valores predichos de los k vecinos mas cercanos\n",
    "            #y sacamos la moda entre estos, la cual corresponde al valor predicho.\n",
    "            Y_test[i]=stats.mode(Y_train[KindexLess])[0][0]          \n",
    "    #Debe retornar un vector que contenga las predicciones para cada una de las muestras en X_test, en el mismo orden.  \n",
    "    return Y_test"
   ]
  },
  {
   "cell_type": "markdown",
   "metadata": {},
   "source": [
    "## Ejercicio 3\n",
    "\n",
    "Una vez haya completado el codigo del método de KNN, ejecute varias veces el proceso de entrenamiento y evaluación cambiando el parametro $k$, el cual es el numero de vecinos, y complete la siguiente tabla con los valores del error de clasificación obtenidos:"
   ]
  },
  {
   "cell_type": "code",
   "execution_count": 169,
   "metadata": {},
   "outputs": [
    {
     "name": "stdout",
     "output_type": "stream",
     "text": [
      "\n",
      "Error durante la prueba = 0.26973684210526316+-0.08802031684381349\n"
     ]
    }
   ],
   "source": [
    "from numpy import random\n",
    "from sklearn.model_selection import train_test_split\n",
    "import math\n",
    "N = np.size(X,0)\n",
    "\n",
    "#Validamos el modelo\n",
    "random.seed(1)\n",
    "Error = np.zeros(4)\n",
    "for j in range(4):    \n",
    "    Xtrain, Xtest, Ytrain, Ytest = train_test_split(X, Y, test_size=0.25)\n",
    "    #Normalizamos los datos\n",
    "    media = np.mean(Xtrain)\n",
    "    desvia = np.std(Xtrain)\n",
    "    Xtrain = sc.stats.stats.zscore(Xtrain)\n",
    "    Xtest = (Xtest - np.matlib.repmat(media, Xtest.shape[0], 1))/np.matlib.repmat(desvia, Xtest.shape[0], 1)\n",
    "\n",
    "    Yest = KNN(Xtrain,Ytrain,Xtest,2,2)#Complete con el llamado apropiado de la función que Uds diseñaron\n",
    "    \n",
    "    #Evaluamos las predicciones del modelo con los datos de test\n",
    "    Error[j] = ErrorClas(Yest,Ytest)\n",
    "print('\\nError durante la prueba = ' + str(np.mean(Error)) + '+-' + str(np.std(Error)))"
   ]
  },
  {
   "cell_type": "markdown",
   "metadata": {},
   "source": [
    "Responda:\n",
    "\n",
    "3.1 ¿Qué metodología de validación se usa en el experimento?\n"
   ]
  },
  {
   "cell_type": "markdown",
   "metadata": {},
   "source": [
    "**R//:**"
   ]
  },
  {
   "cell_type": "markdown",
   "metadata": {},
   "source": [
    "3.2 ¿Cuántas muestras se usan para el entrenamiento?\n"
   ]
  },
  {
   "cell_type": "code",
   "execution_count": 86,
   "metadata": {},
   "outputs": [
    {
     "name": "stdout",
     "output_type": "stream",
     "text": [
      "Para el entrenamiento se usaron 112 muestras en total\n"
     ]
    }
   ],
   "source": [
    "samplesTrain = np.size(Xtrain,0)\n",
    "print(\"Para el entrenamiento se usaron\", str(samplesTrain), \"muestras en total\")"
   ]
  },
  {
   "cell_type": "markdown",
   "metadata": {},
   "source": [
    "3.3 ¿Cuántas muestras se usan para la validación?"
   ]
  },
  {
   "cell_type": "code",
   "execution_count": 88,
   "metadata": {},
   "outputs": [
    {
     "name": "stdout",
     "output_type": "stream",
     "text": [
      "Para la validación] se usaron 38 muestras en total\n"
     ]
    }
   ],
   "source": [
    "samplesTest = np.size(Xtest,0)\n",
    "print(\"Para la validación] se usaron\", str(samplesTest), \"muestras en total\")"
   ]
  },
  {
   "cell_type": "code",
   "execution_count": 184,
   "metadata": {},
   "outputs": [],
   "source": [
    "from numpy import random\n",
    "from sklearn.model_selection import train_test_split\n",
    "import math\n",
    "\n",
    "def implementacionKNN(k):\n",
    "    N = np.size(X,0)\n",
    "    #Validamos el modelo\n",
    "    random.seed(1)\n",
    "    Error = np.zeros(4)\n",
    "    for j in range(4):    \n",
    "        Xtrain, Xtest, Ytrain, Ytest = train_test_split(X, Y, test_size=0.25)\n",
    "        #Normalizamos los datos\n",
    "        media = np.mean(Xtrain)\n",
    "        desvia = np.std(Xtrain)\n",
    "        Xtrain = sc.stats.stats.zscore(Xtrain)\n",
    "        Xtest = (Xtest - np.matlib.repmat(media, Xtest.shape[0], 1))/np.matlib.repmat(desvia, Xtest.shape[0], 1)\n",
    "        Yest = KNN(Xtrain,Ytrain,Xtest,k,2)#Complete con el llamado apropiado de la función que Uds diseñaron\n",
    "\n",
    "        #Evaluamos las predicciones del modelo con los datos de test\n",
    "        Error[j] = ErrorClas(Yest,Ytest)\n",
    "    return np.mean(Error),np.std(Error)"
   ]
  },
  {
   "cell_type": "markdown",
   "metadata": {},
   "source": [
    "#### Tabla de resultados"
   ]
  },
  {
   "cell_type": "code",
   "execution_count": 171,
   "metadata": {},
   "outputs": [
    {
     "data": {
      "application/vnd.jupyter.widget-view+json": {
       "model_id": "723c69b934674e09b23910c27b835059",
       "version_major": 2,
       "version_minor": 0
      },
      "text/plain": [
       "QgridWidget(grid_options={'fullWidthRows': True, 'syncColumnCellResize': True, 'forceFitColumns': True, 'defau…"
      ]
     },
     "metadata": {},
     "output_type": "display_data"
    }
   ],
   "source": [
    "import pandas as pd\n",
    "import qgrid\n",
    "randn = np.random.randn\n",
    "df_types = pd.DataFrame({\n",
    "    'Numero de vecinos' : pd.Series(['1', '2', '3', '4', '5', '6', '7'])})\n",
    "df_types[\"Error_Prueba\"] = \"\"\n",
    "df_types[\"Desviación estándar del error\"] = \"\"\n",
    "df_types.set_index(['Numero de vecinos'], inplace=True)\n",
    "cont = 0\n",
    "for i in df_types.index:\n",
    "    errorPrueba,desviacion=implementacionKNN(int(i))\n",
    "    df_types[\"Error_Prueba\"][cont] = str(errorPrueba)\n",
    "    df_types[\"Desviación estándar del error\"][cont] = str(desviacion)\n",
    "    cont = cont +1\n",
    "df_types.sort_index(inplace=True)\n",
    "qgrid_widget = qgrid.show_grid(df_types, show_toolbar=False)\n",
    "qgrid_widget"
   ]
  },
  {
   "cell_type": "markdown",
   "metadata": {},
   "source": [
    "Ejecute la siguiente instrucción para dejar guardados en el notebook los resultados de las pruebas."
   ]
  },
  {
   "cell_type": "code",
   "execution_count": 172,
   "metadata": {},
   "outputs": [
    {
     "data": {
      "text/html": [
       "<div>\n",
       "<style scoped>\n",
       "    .dataframe tbody tr th:only-of-type {\n",
       "        vertical-align: middle;\n",
       "    }\n",
       "\n",
       "    .dataframe tbody tr th {\n",
       "        vertical-align: top;\n",
       "    }\n",
       "\n",
       "    .dataframe thead th {\n",
       "        text-align: right;\n",
       "    }\n",
       "</style>\n",
       "<table border=\"1\" class=\"dataframe\">\n",
       "  <thead>\n",
       "    <tr style=\"text-align: right;\">\n",
       "      <th></th>\n",
       "      <th>Error_Prueba</th>\n",
       "      <th>Desviación estándar del error</th>\n",
       "    </tr>\n",
       "    <tr>\n",
       "      <th>Numero de vecinos</th>\n",
       "      <th></th>\n",
       "      <th></th>\n",
       "    </tr>\n",
       "  </thead>\n",
       "  <tbody>\n",
       "    <tr>\n",
       "      <th>1</th>\n",
       "      <td>0.20394736842105263</td>\n",
       "      <td>0.11376063464335907</td>\n",
       "    </tr>\n",
       "    <tr>\n",
       "      <th>2</th>\n",
       "      <td>0.26973684210526316</td>\n",
       "      <td>0.08802031684381349</td>\n",
       "    </tr>\n",
       "    <tr>\n",
       "      <th>3</th>\n",
       "      <td>0.26973684210526316</td>\n",
       "      <td>0.08603090020146066</td>\n",
       "    </tr>\n",
       "    <tr>\n",
       "      <th>4</th>\n",
       "      <td>0.2763157894736842</td>\n",
       "      <td>0.0842516347030638</td>\n",
       "    </tr>\n",
       "    <tr>\n",
       "      <th>5</th>\n",
       "      <td>0.26315789473684215</td>\n",
       "      <td>0.09304036594559835</td>\n",
       "    </tr>\n",
       "    <tr>\n",
       "      <th>6</th>\n",
       "      <td>0.2763157894736842</td>\n",
       "      <td>0.0842516347030638</td>\n",
       "    </tr>\n",
       "    <tr>\n",
       "      <th>7</th>\n",
       "      <td>0.26973684210526316</td>\n",
       "      <td>0.08802031684381349</td>\n",
       "    </tr>\n",
       "  </tbody>\n",
       "</table>\n",
       "</div>"
      ],
      "text/plain": [
       "                          Error_Prueba Desviación estándar del error\n",
       "Numero de vecinos                                                   \n",
       "1                  0.20394736842105263           0.11376063464335907\n",
       "2                  0.26973684210526316           0.08802031684381349\n",
       "3                  0.26973684210526316           0.08603090020146066\n",
       "4                   0.2763157894736842            0.0842516347030638\n",
       "5                  0.26315789473684215           0.09304036594559835\n",
       "6                   0.2763157894736842            0.0842516347030638\n",
       "7                  0.26973684210526316           0.08802031684381349"
      ]
     },
     "execution_count": 172,
     "metadata": {},
     "output_type": "execute_result"
    }
   ],
   "source": [
    "qgrid_widget.get_changed_df()"
   ]
  },
  {
   "cell_type": "markdown",
   "metadata": {},
   "source": [
    "## Ejercicio 4\n",
    "\n",
    "A continuación debe completar el código del método parzen para resolver problemas de clasificación con el modelo ventana de Parzen."
   ]
  },
  {
   "cell_type": "markdown",
   "metadata": {},
   "source": [
    "La función de densidad de probabilidad utilizando el método de ventana de Parzen está dado por:"
   ]
  },
  {
   "cell_type": "markdown",
   "metadata": {},
   "source": [
    "$$f({\\bf{x}}^*) = \\frac{1}{N h^d} \\sum_{i=1}^{N} K(u_i), \\;\\; u_i = \\frac{d({\\bf{x}}^*,{\\bf{x}}_i)}{h}$$"
   ]
  },
  {
   "cell_type": "code",
   "execution_count": 173,
   "metadata": {},
   "outputs": [],
   "source": [
    "#Calcula el kernel gaussiano de x\n",
    "#Con la siguiente libreria podremos calcular las distacias entre dos matrices\n",
    "from scipy.spatial import distance_matrix \n",
    "\n",
    "def kernel_gaussiano(x):\n",
    "    return np.exp((-0.5)*x**2)\n",
    "\n",
    "def ParzenWindow(x,Data,h):\n",
    "    h = h\n",
    "    Ns = Data.shape[0]\n",
    "    suma = 0\n",
    "    for k in range(Ns):\n",
    "        u = sc.spatial.distance.euclidean(x,Data[k,:])\n",
    "        suma += kernel_gaussiano(u/h)\n",
    "    return suma\n",
    "\n",
    "def ParzenClass(X_train, Y_train, X_val, ancho_h):\n",
    "    h = ancho_h\n",
    "    nClass =  np.size(np.unique(Y_train),0)\n",
    "    arrayValueClass = []\n",
    "    arrayUi = []\n",
    "    valueFdp = []\n",
    "    Yest = np.zeros(np.size(X_val,0))\n",
    "    d = np.size(X_train,1) #Numéro de caraterísticas  \n",
    "    for i in range(np.size(X_val,0)):\n",
    "        valueFdp =[]\n",
    "        arrayValueClass = []            \n",
    "        for c in range(nClass):        \n",
    "            arrayValueClass.append(X_train[Y_train == c])\n",
    "            const= 1/(len(arrayValueClass[c][0])**d)\n",
    "            Xi = X_val[i].reshape(1,np.size(X_val[i],0))\n",
    "            Di = distance_matrix(Xi,arrayValueClass[c])[0]\n",
    "            Din = Di.reshape(np.size(Di,0),1)        \n",
    "            Ui = Din/h\n",
    "            Kui = kernel_gaussiano(Ui) \n",
    "            fdpiC = const*np.sum(Kui)\n",
    "            valueFdp.append(fdpiC)  \n",
    "        Yest[i]=valueFdp.index(max(valueFdp))\n",
    "    return Yest#Debe retornar un vector que contenga las predicciones para cada una de las muestras en X_val, en el mismo orden.  "
   ]
  },
  {
   "cell_type": "markdown",
   "metadata": {},
   "source": [
    "## Ejercicio 5\n",
    "\n",
    "Ahora debe resolver el mismo problema de clasificación con el método ventana de Parzen. Complete el código ejecute las pruebas para diferentes valores de $h$ y llene la siguiente tabla:"
   ]
  },
  {
   "cell_type": "code",
   "execution_count": 174,
   "metadata": {},
   "outputs": [
    {
     "name": "stdout",
     "output_type": "stream",
     "text": [
      "\n",
      "Error durante la prueba = 0.2216880341880342+-0.04332854434165311\n"
     ]
    }
   ],
   "source": [
    "from numpy import random\n",
    "from sklearn.model_selection import StratifiedKFold\n",
    "import math\n",
    "\n",
    "#Validamos el modelo\n",
    "random.seed(1)\n",
    "Error = np.zeros(4)\n",
    "skf = StratifiedKFold(n_splits=4)\n",
    "j = 0\n",
    "for train, test in skf.split(X, Y):\n",
    "    Xtrain = X[train,:]\n",
    "    Ytrain = Y[train]\n",
    "    Xtest = X[test,:]\n",
    "    Ytest = Y[test]\n",
    "    #Normalizamos los datos\n",
    "    media = np.mean(Xtrain)\n",
    "    desvia = np.std(Xtrain)\n",
    "    Xtrain = sc.stats.stats.zscore(Xtrain)\n",
    "    Xtest = (Xtest - np.matlib.repmat(media, Xtest.shape[0], 1))/np.matlib.repmat(desvia, Xtest.shape[0], 1)\n",
    "\n",
    "    \n",
    "    Yest = ParzenClass(Xtrain,Ytrain,Xtest,0.1)#Complete con el llamado apropiado de la función que Uds diseñaron\n",
    "  \n",
    "    #Evaluamos las predicciones del modelo con los datos de test\n",
    "    Error[j] = ErrorClas(Yest,Ytest)\n",
    "    j += 1\n",
    "print('\\nError durante la prueba = ' + str(np.mean(Error)) + '+-' + str(np.std(Error)))"
   ]
  },
  {
   "cell_type": "code",
   "execution_count": 188,
   "metadata": {},
   "outputs": [],
   "source": [
    "from numpy import random\n",
    "from sklearn.model_selection import StratifiedKFold\n",
    "import math\n",
    "\n",
    "def implementacionParzen(h):\n",
    "    #Validamos el modelo\n",
    "    random.seed(1)\n",
    "    Error = np.zeros(4)\n",
    "    skf = StratifiedKFold(n_splits=4)\n",
    "    j = 0\n",
    "    for train, test in skf.split(X, Y):\n",
    "        Xtrain = X[train,:]\n",
    "        Ytrain = Y[train]\n",
    "        Xtest = X[test,:]\n",
    "        Ytest = Y[test]\n",
    "        #Normalizamos los datos\n",
    "        media = np.mean(Xtrain)\n",
    "        desvia = np.std(Xtrain)\n",
    "        Xtrain = sc.stats.stats.zscore(Xtrain)\n",
    "        Xtest = (Xtest - np.matlib.repmat(media, Xtest.shape[0], 1))/np.matlib.repmat(desvia, Xtest.shape[0], 1)\n",
    "        Yest = ParzenClass(Xtrain,Ytrain,Xtest,h)#Complete con el llamado apropiado de la función que Uds diseñaron\n",
    "\n",
    "        #Evaluamos las predicciones del modelo con los datos de test\n",
    "        Error[j] = ErrorClas(Yest,Ytest)\n",
    "        j += 1\n",
    "    return np.mean(Error), np.std(Error)"
   ]
  },
  {
   "cell_type": "markdown",
   "metadata": {},
   "source": [
    "5.1 ¿Qué metodología de validación se usó en la simulación?:"
   ]
  },
  {
   "cell_type": "markdown",
   "metadata": {},
   "source": [
    "**R//**"
   ]
  },
  {
   "cell_type": "markdown",
   "metadata": {},
   "source": [
    "5.2 ¿Cuántas muestras se usan para el entrenamiento?:\n"
   ]
  },
  {
   "cell_type": "markdown",
   "metadata": {},
   "source": [
    "5.3 ¿Cuántas muestras se usan para la validación?:"
   ]
  },
  {
   "cell_type": "markdown",
   "metadata": {},
   "source": [
    "#### Tabla de resultados"
   ]
  },
  {
   "cell_type": "code",
   "execution_count": 189,
   "metadata": {},
   "outputs": [
    {
     "data": {
      "application/vnd.jupyter.widget-view+json": {
       "model_id": "2bc833b693704934881ce2564ca0496a",
       "version_major": 2,
       "version_minor": 0
      },
      "text/plain": [
       "QgridWidget(grid_options={'fullWidthRows': True, 'syncColumnCellResize': True, 'forceFitColumns': True, 'defau…"
      ]
     },
     "metadata": {},
     "output_type": "display_data"
    }
   ],
   "source": [
    "import pandas as pd\n",
    "import qgrid\n",
    "randn = np.random.randn\n",
    "df_types2 = pd.DataFrame({\n",
    "    'Tamano de ventana' : pd.Series(['0.05', '0.1', '0.5', '1', '2', '5', '10'])})\n",
    "df_types2[\"Error_Prueba\"] = \"\"\n",
    "df_types2[\"Desviación estándar del error\"] = \"\"\n",
    "df_types2.set_index(['Tamano de ventana'], inplace=True)\n",
    "cont = 0\n",
    "for i in df_types2.index:\n",
    "    errorPrueba,desviacion=implementacionParzen(float(i))\n",
    "    df_types2[\"Error_Prueba\"][cont] = str(errorPrueba)\n",
    "    df_types2[\"Desviación estándar del error\"][cont] = str(desviacion)\n",
    "    cont = cont +1\n",
    "df_types2.sort_index(inplace=True)\n",
    "qgrid_widget = qgrid.show_grid(df_types2, show_toolbar=False)\n",
    "qgrid_widget"
   ]
  },
  {
   "cell_type": "markdown",
   "metadata": {},
   "source": [
    "Ejecute la siguiente instrucción para dejar guardados en el notebook los resultados de las pruebas."
   ]
  },
  {
   "cell_type": "code",
   "execution_count": 190,
   "metadata": {},
   "outputs": [
    {
     "data": {
      "text/html": [
       "<div>\n",
       "<style scoped>\n",
       "    .dataframe tbody tr th:only-of-type {\n",
       "        vertical-align: middle;\n",
       "    }\n",
       "\n",
       "    .dataframe tbody tr th {\n",
       "        vertical-align: top;\n",
       "    }\n",
       "\n",
       "    .dataframe thead th {\n",
       "        text-align: right;\n",
       "    }\n",
       "</style>\n",
       "<table border=\"1\" class=\"dataframe\">\n",
       "  <thead>\n",
       "    <tr style=\"text-align: right;\">\n",
       "      <th></th>\n",
       "      <th>Error_Prueba</th>\n",
       "      <th>Desviación estándar del error</th>\n",
       "    </tr>\n",
       "    <tr>\n",
       "      <th>Tamano de ventana</th>\n",
       "      <th></th>\n",
       "      <th></th>\n",
       "    </tr>\n",
       "  </thead>\n",
       "  <tbody>\n",
       "    <tr>\n",
       "      <th>0.05</th>\n",
       "      <td>0.2216880341880342</td>\n",
       "      <td>0.04332854434165311</td>\n",
       "    </tr>\n",
       "    <tr>\n",
       "      <th>0.1</th>\n",
       "      <td>0.2216880341880342</td>\n",
       "      <td>0.04332854434165311</td>\n",
       "    </tr>\n",
       "    <tr>\n",
       "      <th>0.5</th>\n",
       "      <td>0.281517094017094</td>\n",
       "      <td>0.04021339704891218</td>\n",
       "    </tr>\n",
       "    <tr>\n",
       "      <th>1</th>\n",
       "      <td>0.280982905982906</td>\n",
       "      <td>0.03145818774430656</td>\n",
       "    </tr>\n",
       "    <tr>\n",
       "      <th>10</th>\n",
       "      <td>0.2216880341880342</td>\n",
       "      <td>0.04696907336459245</td>\n",
       "    </tr>\n",
       "    <tr>\n",
       "      <th>2</th>\n",
       "      <td>0.24198717948717952</td>\n",
       "      <td>0.058466142137675314</td>\n",
       "    </tr>\n",
       "    <tr>\n",
       "      <th>5</th>\n",
       "      <td>0.2216880341880342</td>\n",
       "      <td>0.04696907336459245</td>\n",
       "    </tr>\n",
       "  </tbody>\n",
       "</table>\n",
       "</div>"
      ],
      "text/plain": [
       "                          Error_Prueba Desviación estándar del error\n",
       "Tamano de ventana                                                   \n",
       "0.05                0.2216880341880342           0.04332854434165311\n",
       "0.1                 0.2216880341880342           0.04332854434165311\n",
       "0.5                  0.281517094017094           0.04021339704891218\n",
       "1                    0.280982905982906           0.03145818774430656\n",
       "10                  0.2216880341880342           0.04696907336459245\n",
       "2                  0.24198717948717952          0.058466142137675314\n",
       "5                   0.2216880341880342           0.04696907336459245"
      ]
     },
     "execution_count": 190,
     "metadata": {},
     "output_type": "execute_result"
    }
   ],
   "source": [
    "qgrid_widget.get_changed_df()"
   ]
  },
  {
   "cell_type": "code",
   "execution_count": null,
   "metadata": {},
   "outputs": [],
   "source": []
  }
 ],
 "metadata": {
  "kernelspec": {
   "display_name": "Python 3",
   "language": "python",
   "name": "python3"
  },
  "language_info": {
   "codemirror_mode": {
    "name": "ipython",
    "version": 3
   },
   "file_extension": ".py",
   "mimetype": "text/x-python",
   "name": "python",
   "nbconvert_exporter": "python",
   "pygments_lexer": "ipython3",
   "version": "3.6.5"
  }
 },
 "nbformat": 4,
 "nbformat_minor": 2
}
