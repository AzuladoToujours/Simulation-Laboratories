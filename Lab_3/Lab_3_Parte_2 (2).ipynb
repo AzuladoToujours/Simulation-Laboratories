{
 "cells": [
  {
   "cell_type": "markdown",
   "metadata": {},
   "source": [
    "# Laboratorio 3 - Parte 2\n",
    "\n",
    "### Arboles de decisión y Random Forest\n",
    "\n",
    "### 2019-I\n",
    "\n",
    "#### Profesor: Julián D. Arias Londoño\n",
    "#### julian.ariasl@udea.edu.co\n"
   ]
  },
  {
   "cell_type": "markdown",
   "metadata": {},
   "source": [
    "## Guía del laboratorio\n",
    "\n",
    "En esta archivo va a encontrar tanto celdas de código cómo celdas de texto con las instrucciones para desarrollar el laboratorio.\n",
    "\n",
    "Lea atentamente las instrucciones entregadas en las celdas de texto correspondientes y proceda con la solución de las preguntas planteadas.\n",
    "\n",
    "Nota: no olvide ir ejecutando las celdas de código de arriba hacia abajo para que no tenga errores de importación de librerías o por falta de definición de variables."
   ]
  },
  {
   "cell_type": "code",
   "execution_count": null,
   "metadata": {
    "collapsed": true
   },
   "outputs": [],
   "source": [
    "#Tomado de https://github.com/rramosp/mooc-grader\n",
    "from Autentication import *#python 3\n",
    "import inspect, urllib\n",
    "html, auth_code, userinfo = google_authenticate(PORT_NUMBER=8080)\n",
    "html"
   ]
  },
  {
   "cell_type": "markdown",
   "metadata": {},
   "source": [
    "# Integrantes\n",
    "\n",
    "### Jose Alberto Arango Sánchez\n",
    "\n",
    "\n",
    "### Leon Dario Arango Amaya"
   ]
  },
  {
   "cell_type": "code",
   "execution_count": 52,
   "metadata": {
    "collapsed": true
   },
   "outputs": [],
   "source": [
    "%matplotlib inline\n",
    "import numpy as np\n",
    "import scipy as sc\n",
    "import matplotlib.pyplot as plt\n",
    "from scipy import stats\n",
    "from __future__ import division\n",
    "\n",
    "#Algunas advertencias que queremos evitar\n",
    "import warnings\n",
    "warnings.filterwarnings(\"always\")"
   ]
  },
  {
   "cell_type": "markdown",
   "metadata": {},
   "source": [
    "## Ejercicio 1\n",
    "\n",
    "A continuación se leen los datos de un problema de clasificación. El problema corresponde a la clasifiación de dígitos escritos a mano, el cual fue abordado en el laboratorio anterior. Usaremos únicamente 4 de las 10 clases disponibles. Los datos fueron preprocesados para reducir el número de características. La técnica usada será analizada más adelante en el curso."
   ]
  },
  {
   "cell_type": "code",
   "execution_count": 53,
   "metadata": {
    "collapsed": true
   },
   "outputs": [],
   "source": [
    "from sklearn.datasets import load_digits\n",
    "from sklearn.decomposition import PCA\n",
    "digits = load_digits(n_class=4)\n",
    "\n",
    "#--------- preprocesamiento--------------------\n",
    "pca = PCA(0.99, whiten=True)\n",
    "data = pca.fit_transform(digits.data)\n",
    "\n",
    "#---------- Datos a usar ----------------------\n",
    "X = data\n",
    "Y = digits.target\n",
    "    "
   ]
  },
  {
   "cell_type": "markdown",
   "metadata": {},
   "source": [
    "En la siguiente celda se define una simulación para entrenar y validar un modelo usando los datos previamente cargados. Complete el código para usar como modelo de predicción un arbol de decisión. Debe consultar todo lo relacionado con la creación, entrenamiento y uso en predicción de este modelo usando la librería scikit-learn. Consultar aquí: http://scikit-learn.org/stable/modules/generated/sklearn.tree.DecisionTreeClassifier.html\n",
    "\n",
    "<b>Note</b> que existe una clase para modelos de clasificación y otra para modelos de regresión:\n",
    "http://scikit-learn.org/stable/modules/generated/sklearn.tree.DecisionTreeRegressor.html"
   ]
  },
  {
   "cell_type": "code",
   "execution_count": 54,
   "metadata": {
    "collapsed": true
   },
   "outputs": [],
   "source": [
    "from sklearn import tree\n",
    "\n",
    "def treeDecisionClassifierTrain(Xtrain,Ytrain,depth):\n",
    "    clf = tree.DecisionTreeClassifier(max_depth=depth)\n",
    "    clf = clf.fit(Xtrain,Ytrain)\n",
    "    return clf"
   ]
  },
  {
   "cell_type": "code",
   "execution_count": 55,
   "metadata": {
    "collapsed": true
   },
   "outputs": [],
   "source": [
    "def treeDecisionClassifierValidation(modelTree,Xtest):\n",
    "    return modelTree.predict(Xtest)"
   ]
  },
  {
   "cell_type": "code",
   "execution_count": 56,
   "metadata": {},
   "outputs": [
    {
     "name": "stdout",
     "output_type": "stream",
     "text": [
      "Eficiencia durante el entrenamiento = 1.0+-0.0\n",
      "Eficiencia durante la validación = 0.901380819032+-0.0323919251015\n"
     ]
    }
   ],
   "source": [
    "import math\n",
    "import numpy as np\n",
    "from numpy import random\n",
    "from sklearn.model_selection import StratifiedKFold\n",
    "\n",
    "\n",
    "#Validamos el modelo\n",
    "Folds = 4\n",
    "random.seed(19680801)\n",
    "EficienciaTrain = np.zeros(Folds)\n",
    "EficienciaVal = np.zeros(Folds)\n",
    "skf = StratifiedKFold(n_splits=Folds)\n",
    "j = 0\n",
    "for train, test in skf.split(X, Y):\n",
    "    Xtrain = X[train,:]\n",
    "    Ytrain = Y[train]\n",
    "    Xtest = X[test,:]\n",
    "    Ytest = Y[test]\n",
    "    \n",
    "    #Normalizamos los datos\n",
    "    media = np.mean(Xtrain)\n",
    "    desvia = np.std(Xtrain)\n",
    "    Xtrain = sc.stats.stats.zscore(Xtrain)\n",
    "    Xtest = (Xtest - np.matlib.repmat(media, Xtest.shape[0], 1))/np.matlib.repmat(desvia, Xtest.shape[0], 1)\n",
    "    \n",
    "    #Haga el llamado a la función para crear y entrenar el modelo usando los datos de entrenamiento\n",
    "    model = treeDecisionClassifierTrain(Xtrain,Ytrain,10)\n",
    "    \n",
    "    \n",
    "    \n",
    "    #Validación\n",
    "    Ytrain_pred =treeDecisionClassifierValidation(model,Xtrain) #Use el modelo previamente entrenado para hacer predicciones con las mismas muestras de entrenamiento\n",
    "    Yest =treeDecisionClassifierValidation(model,Xtest) #Use el modelo previamente entrenado para hacer predicciones con las muestras de test\n",
    "    \n",
    "    #Evaluamos las predicciones del modelo con los datos de test\n",
    "    EficienciaTrain[j] = np.mean(Ytrain_pred.ravel() == Ytrain.ravel())\n",
    "    EficienciaVal[j] = np.mean(Yest.ravel() == Ytest.ravel())\n",
    "    j += 1\n",
    "        \n",
    "print('Eficiencia durante el entrenamiento = ' + str(np.mean(EficienciaTrain)) + '+-' + str(np.std(EficienciaTrain)))\n",
    "print('Eficiencia durante la validación = ' + str(np.mean(EficienciaVal)) + '+-' + str(np.std(EficienciaVal)))\n"
   ]
  },
  {
   "cell_type": "markdown",
   "metadata": {},
   "source": [
    "Responda:\n",
    "\n",
    "1.1 ¿Cuáles criterios para detener el crecimiento del árbol o de los nodos están disponibles en la librería?:"
   ]
  },
  {
   "cell_type": "markdown",
   "metadata": {},
   "source": [
    "**R//:** El crecimiento del arbol se puede detener utilizando:\n",
    "- Definiendo el maximo numero de profundida del arbol, para esto se utiliza el paramtero max_depth\n",
    "- Definiendo un umbral: Calculamos la impureza de un nodo y si este está por encima del umbral definido se dividirá, de lo contrario sera un hoja. Este parametro es: min_impurity_split dentro de la libreria.\n",
    "- Estableciendo el número mínimo de muestras que se requieren para dividir un nodo.Este parametro es:min_samples_split\n",
    "- Estableciendo el número mínimo de muestras que pueden estar en un nodo hoja. Este parametro es: min_samples_leaf"
   ]
  },
  {
   "cell_type": "markdown",
   "metadata": {},
   "source": [
    "1.2. ¿Cuáles son los parámetros asociados con los criterios enumerados en el punto anterior?:"
   ]
  },
  {
   "cell_type": "markdown",
   "metadata": {},
   "source": [
    "**R//:**max_depth, min_impurity_split, min_samples_split, min_samples_leaf"
   ]
  },
  {
   "cell_type": "code",
   "execution_count": 57,
   "metadata": {
    "collapsed": true
   },
   "outputs": [],
   "source": [
    "import math\n",
    "import numpy as np\n",
    "from numpy import random\n",
    "from sklearn.model_selection import StratifiedKFold\n",
    "\n",
    "def treeValidation(depth):\n",
    "    #Validamos el modelo\n",
    "    Folds = 4\n",
    "    random.seed(19680801)\n",
    "    EficienciaTrain = np.zeros(Folds)\n",
    "    EficienciaVal = np.zeros(Folds)\n",
    "    skf = StratifiedKFold(n_splits=Folds)\n",
    "    j = 0\n",
    "    for train, test in skf.split(X, Y):\n",
    "        Xtrain = X[train,:]\n",
    "        Ytrain = Y[train]\n",
    "        Xtest = X[test,:]\n",
    "        Ytest = Y[test]\n",
    "\n",
    "        #Normalizamos los datos\n",
    "        media = np.mean(Xtrain)\n",
    "        desvia = np.std(Xtrain)\n",
    "        Xtrain = sc.stats.stats.zscore(Xtrain)\n",
    "        Xtest = (Xtest - np.matlib.repmat(media, Xtest.shape[0], 1))/np.matlib.repmat(desvia, Xtest.shape[0], 1)\n",
    "\n",
    "        #Haga el llamado a la función para crear y entrenar el modelo usando los datos de entrenamiento\n",
    "        model = treeDecisionClassifierTrain(Xtrain,Ytrain,depth)\n",
    "\n",
    "    \n",
    "\n",
    "        #Validación\n",
    "        Ytrain_pred =treeDecisionClassifierValidation(model,Xtrain) #Use el modelo previamente entrenado para hacer predicciones con las mismas muestras de entrenamiento\n",
    "        Yest =treeDecisionClassifierValidation(model,Xtest) #Use el modelo previamente entrenado para hacer predicciones con las muestras de test\n",
    "\n",
    "        #Evaluamos las predicciones del modelo con los datos de test\n",
    "        EficienciaTrain[j] = np.mean(Ytrain_pred.ravel() == Ytrain.ravel())\n",
    "        EficienciaVal[j] = np.mean(Yest.ravel() == Ytest.ravel())\n",
    "        j += 1\n",
    "\n",
    "    #print('Eficiencia durante el entrenamiento = ' + str(np.mean(EficienciaTrain)) + '+-' + str(np.std(EficienciaTrain)))\n",
    "    #print('Eficiencia durante la validación = ' + str(np.mean(EficienciaVal)) + '+-' + str(np.std(EficienciaVal)))\n",
    "    return np.mean(EficienciaVal),np.std(EficienciaVal)"
   ]
  },
  {
   "cell_type": "markdown",
   "metadata": {},
   "source": [
    "## Ejercicio 2\n",
    "\n",
    "Una vez completado el código realice los experimentos necesarios para llenar la siguiente tabla:"
   ]
  },
  {
   "cell_type": "code",
   "execution_count": 76,
   "metadata": {},
   "outputs": [
    {
     "name": "stdout",
     "output_type": "stream",
     "text": [
      "Maxima profundidad | Eficiencia en validacion| Intervalo de confianza|\n",
      "5                    0.911188480595            0.0446095825565\n",
      "10                    0.901380819032            0.0323919251015\n",
      "20                    0.901380819032            0.0323919251015\n",
      "30                    0.901380819032            0.0323919251015\n",
      "50                    0.901380819032            0.0323919251015\n"
     ]
    },
    {
     "data": {
      "application/vnd.jupyter.widget-view+json": {
       "model_id": "5642f6978912418bb5ec37064926d2cf",
       "version_major": 2,
       "version_minor": 0
      },
      "text/plain": [
       "A Jupyter Widget"
      ]
     },
     "metadata": {},
     "output_type": "display_data"
    }
   ],
   "source": [
    "import pandas as pd\n",
    "import qgrid\n",
    "randn = np.random.randn\n",
    "df_types = pd.DataFrame({\n",
    "    'Maxima profundidad' : pd.Series([5,10,20,30,50])})\n",
    "df_types[\"Eficiencia en validacion\"] = \"\"\n",
    "df_types[\"Intervalo de confianza\"] = \"\"\n",
    "df_types.set_index(['Maxima profundidad'], inplace=True)\n",
    "cont = 0\n",
    "print(\"Maxima profundidad |\", \"Eficiencia en validacion|\",\"Intervalo de confianza|\")\n",
    "for i in df_types.index:\n",
    "    eficiencia,confianza = treeValidation(i)\n",
    "    print(str(i),\"                  \", str(eficiencia), \"          \", str(confianza))\n",
    "    #df_types[\"Eficiencia en validacion\"][cont] = str(eficiencia)\n",
    "    #df_types[\"Intervalo de confianza\"][cont] = str(confianza)\n",
    "    cont = cont +1\n",
    "df_types.sort_index(inplace=True)\n",
    "qgrid_widget = qgrid.show_grid(df_types, show_toolbar=False)\n",
    "qgrid_widget"
   ]
  },
  {
   "cell_type": "markdown",
   "metadata": {},
   "source": [
    "Ejecute la siguiente instrucción para dejar guardados en el notebook los resultados de las pruebas."
   ]
  },
  {
   "cell_type": "code",
   "execution_count": 61,
   "metadata": {},
   "outputs": [
    {
     "data": {
      "text/html": [
       "<div>\n",
       "<style>\n",
       "    .dataframe thead tr:only-child th {\n",
       "        text-align: right;\n",
       "    }\n",
       "\n",
       "    .dataframe thead th {\n",
       "        text-align: left;\n",
       "    }\n",
       "\n",
       "    .dataframe tbody tr th {\n",
       "        vertical-align: top;\n",
       "    }\n",
       "</style>\n",
       "<table border=\"1\" class=\"dataframe\">\n",
       "  <thead>\n",
       "    <tr style=\"text-align: right;\">\n",
       "      <th></th>\n",
       "      <th>Eficiencia en validacion</th>\n",
       "      <th>Intervalo de confianza</th>\n",
       "    </tr>\n",
       "    <tr>\n",
       "      <th>Maxima profundidad</th>\n",
       "      <th></th>\n",
       "      <th></th>\n",
       "    </tr>\n",
       "  </thead>\n",
       "  <tbody>\n",
       "    <tr>\n",
       "      <th>5</th>\n",
       "      <td></td>\n",
       "      <td></td>\n",
       "    </tr>\n",
       "    <tr>\n",
       "      <th>10</th>\n",
       "      <td></td>\n",
       "      <td></td>\n",
       "    </tr>\n",
       "    <tr>\n",
       "      <th>20</th>\n",
       "      <td></td>\n",
       "      <td></td>\n",
       "    </tr>\n",
       "    <tr>\n",
       "      <th>30</th>\n",
       "      <td></td>\n",
       "      <td></td>\n",
       "    </tr>\n",
       "    <tr>\n",
       "      <th>50</th>\n",
       "      <td></td>\n",
       "      <td></td>\n",
       "    </tr>\n",
       "  </tbody>\n",
       "</table>\n",
       "</div>"
      ],
      "text/plain": [
       "                   Eficiencia en validacion Intervalo de confianza\n",
       "Maxima profundidad                                                \n",
       "5                                                                 \n",
       "10                                                                \n",
       "20                                                                \n",
       "30                                                                \n",
       "50                                                                "
      ]
     },
     "execution_count": 61,
     "metadata": {},
     "output_type": "execute_result"
    }
   ],
   "source": [
    "qgrid_widget.get_changed_df()"
   ]
  },
  {
   "cell_type": "markdown",
   "metadata": {},
   "source": [
    "Responda: \n",
    "    \n",
    "2.1 ¿Tiene algún efecto la normalización o estándarización de las variables en el desempeño del modelo de árboles de decisión? Explique su respuesta.    "
   ]
  },
  {
   "cell_type": "markdown",
   "metadata": {},
   "source": [
    "**R//:**Si tiene algún efecto la normalización, pero No es significativo, ya que la diferencia es minima."
   ]
  },
  {
   "cell_type": "markdown",
   "metadata": {},
   "source": [
    "## Ejercicio 3\n",
    "\n",
    "En la siguiente celda se define una simulación para entrenar y validar un modelo usando los datos previamente cargados. Complete el código para usar como modelo de predicción un Random Forest. Debe consultar todo lo relacionado con la creación, entrenamiento y uso en predicción de este modelo usando la librería scikit-learn. Consultar aquí: http://scikit-learn.org/stable/modules/generated/sklearn.ensemble.RandomForestClassifier.html \n",
    "\n",
    "<b>Note</b> que al igual que en el caso anterior, existe una clase para modelos de clasificación y otra para modelos de regresión: http://scikit-learn.org/stable/modules/generated/sklearn.ensemble.RandomForestRegressor.html"
   ]
  },
  {
   "cell_type": "code",
   "execution_count": 78,
   "metadata": {},
   "outputs": [],
   "source": [
    "from sklearn.ensemble import RandomForestClassifier\n",
    "def randomForestClassifierTrain(Xtrain,Ytrain,n_tree, maxFeatures):\n",
    "    clf = RandomForestClassifier(n_estimators=n_tree,max_features=maxFeatures)\n",
    "    clf = clf.fit(Xtrain,Ytrain)\n",
    "    return clf"
   ]
  },
  {
   "cell_type": "code",
   "execution_count": 79,
   "metadata": {
    "collapsed": true
   },
   "outputs": [],
   "source": [
    "def randomForestClassifierValidation(Xtest,model):\n",
    "    return model.predict(Xtest)"
   ]
  },
  {
   "cell_type": "code",
   "execution_count": 80,
   "metadata": {
    "collapsed": true
   },
   "outputs": [],
   "source": [
    "from sklearn.ensemble import BaggingClassifier\n",
    "def BaggingClassifierTrain(Xtrain,Ytrain, nTree, maxFeatures):\n",
    "    bagging = BaggingClassifier(n_estimators=nTree,max_features=maxFeatures)\n",
    "    bagging = bagging.fit(Xtrain,Ytrain)\n",
    "    return bagging"
   ]
  },
  {
   "cell_type": "code",
   "execution_count": 81,
   "metadata": {
    "collapsed": true
   },
   "outputs": [],
   "source": [
    "def BaggingClassifierValidation(Xtest,model):\n",
    "    return model.predict(Xtest)"
   ]
  },
  {
   "cell_type": "code",
   "execution_count": 92,
   "metadata": {},
   "outputs": [
    {
     "name": "stdout",
     "output_type": "stream",
     "text": [
      "Eficiencia durante el entrenamiento = 0.998146417588+-0.00131189649442\n",
      "Eficiencia durante la validación = 0.877752907769+-0.0143381391133\n"
     ]
    }
   ],
   "source": [
    "#Validamos el modelo\n",
    "Folds = 4\n",
    "random.seed(19680801)\n",
    "EficienciaTrain = np.zeros(Folds)\n",
    "EficienciaVal = np.zeros(Folds)\n",
    "skf = StratifiedKFold(n_splits=Folds)\n",
    "j = 0\n",
    "for train, test in skf.split(X, Y):\n",
    "    Xtrain = X[train,:]\n",
    "    Ytrain = Y[train]\n",
    "    Xtest = X[test,:]\n",
    "    Ytest = Y[test]\n",
    "    \n",
    "    #Normalizamos los datos\n",
    "    media = np.mean(Xtrain)\n",
    "    desvia = np.std(Xtrain)\n",
    "    Xtrain = sc.stats.stats.zscore(Xtrain)\n",
    "    Xtest = (Xtest - np.matlib.repmat(media, Xtest.shape[0], 1))/np.matlib.repmat(desvia, Xtest.shape[0], 1)\n",
    "    \n",
    "    #Haga el llamado a la función para crear y entrenar el modelo usando los datos de entrenamiento\n",
    "    model = randomForestClassifierTrain(Xtrain,Ytrain,5,5)\n",
    "    \n",
    "    \n",
    "    \n",
    "    #Validación\n",
    "    Ytrain_pred =randomForestClassifierValidation(Xtrain,model) #Use el modelo previamente entrenado para hacer predicciones con las mismas muestras de entrenamiento\n",
    "    Yest =randomForestClassifierValidation(Xtest,model) #Use el modelo previamente entrenado para hacer predicciones con las muestras de test\n",
    "    \n",
    "    #Evaluamos las predicciones del modelo con los datos de test\n",
    "    EficienciaTrain[j] = np.mean(Ytrain_pred.ravel() == Ytrain.ravel())\n",
    "    EficienciaVal[j] = np.mean(Yest.ravel() == Ytest.ravel())\n",
    "    j += 1\n",
    "        \n",
    "print('Eficiencia durante el entrenamiento = ' + str(np.mean(EficienciaTrain)) + '+-' + str(np.std(EficienciaTrain)))\n",
    "print('Eficiencia durante la validación = ' + str(np.mean(EficienciaVal)) + '+-' + str(np.std(EficienciaVal)))\n"
   ]
  },
  {
   "cell_type": "code",
   "execution_count": 93,
   "metadata": {},
   "outputs": [],
   "source": [
    "def randomForest(nTree, maxFeatures):\n",
    "    #Validamos el modelo\n",
    "    Folds = 4\n",
    "    random.seed(19680801)\n",
    "    EficienciaTrain = np.zeros(Folds)\n",
    "    EficienciaVal = np.zeros(Folds)\n",
    "    skf = StratifiedKFold(n_splits=Folds)\n",
    "    j = 0\n",
    "    for train, test in skf.split(X, Y):\n",
    "        Xtrain = X[train,:]\n",
    "        Ytrain = Y[train]\n",
    "        Xtest = X[test,:]\n",
    "        Ytest = Y[test]\n",
    "\n",
    "        #Normalizamos los datos\n",
    "        media = np.mean(Xtrain)\n",
    "        desvia = np.std(Xtrain)\n",
    "        Xtrain = sc.stats.stats.zscore(Xtrain)\n",
    "        Xtest = (Xtest - np.matlib.repmat(media, Xtest.shape[0], 1))/np.matlib.repmat(desvia, Xtest.shape[0], 1)\n",
    "\n",
    "        #Haga el llamado a la función para crear y entrenar el modelo usando los datos de entrenamiento\n",
    "        model = randomForestClassifierTrain(Xtrain,Ytrain,nTree,maxFeatures)\n",
    "\n",
    "\n",
    "\n",
    "        #Validación\n",
    "        Ytrain_pred =randomForestClassifierValidation(Xtrain,model) #Use el modelo previamente entrenado para hacer predicciones con las mismas muestras de entrenamiento\n",
    "        Yest =randomForestClassifierValidation(Xtest,model) #Use el modelo previamente entrenado para hacer predicciones con las muestras de test\n",
    "\n",
    "        #Evaluamos las predicciones del modelo con los datos de test\n",
    "        EficienciaTrain[j] = np.mean(Ytrain_pred.ravel() == Ytrain.ravel())\n",
    "        EficienciaVal[j] = np.mean(Yest.ravel() == Ytest.ravel())\n",
    "        j += 1\n",
    "\n",
    "    #print('Eficiencia durante el entrenamiento = ' + str(np.mean(EficienciaTrain)) + '+-' + str(np.std(EficienciaTrain)))\n",
    "    #print('Eficiencia durante la validación = ' + str(np.mean(EficienciaVal)) + '+-' + str(np.std(EficienciaVal)))\n",
    "    return np.mean(EficienciaVal),np.std(EficienciaVal)"
   ]
  },
  {
   "cell_type": "code",
   "execution_count": 106,
   "metadata": {},
   "outputs": [
    {
     "data": {
      "text/plain": [
       "(0.87775290776943971, 0.014338139113272093)"
      ]
     },
     "execution_count": 106,
     "metadata": {},
     "output_type": "execute_result"
    }
   ],
   "source": [
    "randomForest(5,5)"
   ]
  },
  {
   "cell_type": "markdown",
   "metadata": {},
   "source": [
    "Una vez completado el código realice los experimentos necesarios para llenar la siguiente tabla:"
   ]
  },
  {
   "cell_type": "code",
   "execution_count": 114,
   "metadata": {},
   "outputs": [
    {
     "name": "stdout",
     "output_type": "stream",
     "text": [
      "Maxima profundidad | Eficiencia en validacion| Intervalo de confianza|\n",
      "5 5  0.877752907769  0.0143381391133\n",
      "5 10  0.924917160951  0.0364477044298\n",
      "5 15  0.937502185837  0.0154048130278\n",
      "5 20  0.9362140803  0.0274170373033\n",
      "5 25  0.902769880839  0.0277680794555\n",
      "5 30  0.923712792712  0.0327966976965\n",
      "10 5  0.915317208911  0.03362828793\n",
      "10 10  0.926522298817  0.024224533125\n",
      "10 15  0.923604498871  0.0345354428294\n",
      "10 20  0.925032275023  0.0250143391892\n",
      "10 25  0.922300712092  0.0267697988789\n",
      "10 30  0.922347012676  0.0304132181099\n",
      "20 5  0.945890434925  0.015236054514\n",
      "20 10  0.934801485198  0.0248351790223\n",
      "20 15  0.938829251527  0.0228975690857\n",
      "20 20  0.93332741132  0.0243990294576\n",
      "20 25  0.926429180309  0.0252216926655\n",
      "20 30  0.930634559877  0.02780783819\n",
      "50 5  0.95546659357  0.0207817313875\n",
      "50 10  0.952750205973  0.0239716726752\n",
      "50 15  0.947171200032  0.021994172967\n",
      "50 20  0.934747595518  0.0227230307502\n",
      "50 25  0.937548480704  0.0267687379477\n",
      "50 30  0.925009253352  0.0228017032977\n",
      "100 5  0.969387808116  0.0129504955471\n",
      "100 10  0.958267735997  0.0201460662392\n",
      "100 15  0.941646338154  0.0245367942139\n",
      "100 20  0.934693451456  0.0179726781906\n",
      "100 25  0.934724059365  0.0266341090813\n",
      "100 30  0.929230065495  0.0286541353488\n"
     ]
    },
    {
     "data": {
      "application/vnd.jupyter.widget-view+json": {
       "model_id": "c551f0fe876948b690e147787399d6bb",
       "version_major": 2,
       "version_minor": 0
      },
      "text/plain": [
       "A Jupyter Widget"
      ]
     },
     "metadata": {},
     "output_type": "display_data"
    }
   ],
   "source": [
    "import pandas as pd\n",
    "import qgrid\n",
    "randn = np.random.randn\n",
    "df_types2 = pd.DataFrame({\n",
    "    'Numero de arboles' : pd.Series([5,5,5,5,5,5,10,10,10,10,10,10,20,20,20,20,20,20,50,50,50,50,50,50,100,100,100,100,100,100]),\n",
    "    'Variables analizadas por nodo' : pd.Series([5,10,15,20,25,30,5,10,15,20,25,30,5,10,15,20,25,30,5,10,15,20,25,30,5,10,15,20,25,30])})\n",
    "df_types2[\"Eficiencia en validacion\"] = \"\"\n",
    "df_types2[\"Intervalo de confianza\"] = \"\"\n",
    "df_types2.set_index(['Numero de arboles','Variables analizadas por nodo'], inplace=True)\n",
    "cont = 0\n",
    "print(\"Maxima profundidad |\", \"Eficiencia en validacion|\",\"Intervalo de confianza|\")\n",
    "\n",
    "for i,j in df_types.index:\n",
    "    \n",
    "    eficiencia,confianza = randomForest(i,j)\n",
    "    print(str(i),str(j),\"\", str(eficiencia), \"\", str(confianza))\n",
    "    cont = cont +1\n",
    "#df_types[\"Eficiencia en validacion\"][0]=0.8778\n",
    "#df_types[\"Intervalo de confianza\"][0] = 0.0143\n",
    "df_types2.sort_index(inplace=True)\n",
    "qgrid_widget = qgrid.show_grid(df_types2, show_toolbar=False)\n",
    "qgrid_widget"
   ]
  },
  {
   "cell_type": "markdown",
   "metadata": {},
   "source": [
    "Ejecute la siguiente instrucción para dejar guardados en el notebook los resultados de las pruebas."
   ]
  },
  {
   "cell_type": "code",
   "execution_count": 115,
   "metadata": {},
   "outputs": [
    {
     "data": {
      "text/html": [
       "<div>\n",
       "<style>\n",
       "    .dataframe thead tr:only-child th {\n",
       "        text-align: right;\n",
       "    }\n",
       "\n",
       "    .dataframe thead th {\n",
       "        text-align: left;\n",
       "    }\n",
       "\n",
       "    .dataframe tbody tr th {\n",
       "        vertical-align: top;\n",
       "    }\n",
       "</style>\n",
       "<table border=\"1\" class=\"dataframe\">\n",
       "  <thead>\n",
       "    <tr style=\"text-align: right;\">\n",
       "      <th></th>\n",
       "      <th></th>\n",
       "      <th>Eficiencia en validacion</th>\n",
       "      <th>Intervalo de confianza</th>\n",
       "    </tr>\n",
       "    <tr>\n",
       "      <th>Numero de arboles</th>\n",
       "      <th>Variables analizadas por nodo</th>\n",
       "      <th></th>\n",
       "      <th></th>\n",
       "    </tr>\n",
       "  </thead>\n",
       "  <tbody>\n",
       "    <tr>\n",
       "      <th rowspan=\"6\" valign=\"top\">5</th>\n",
       "      <th>5</th>\n",
       "      <td></td>\n",
       "      <td></td>\n",
       "    </tr>\n",
       "    <tr>\n",
       "      <th>10</th>\n",
       "      <td></td>\n",
       "      <td></td>\n",
       "    </tr>\n",
       "    <tr>\n",
       "      <th>15</th>\n",
       "      <td></td>\n",
       "      <td></td>\n",
       "    </tr>\n",
       "    <tr>\n",
       "      <th>20</th>\n",
       "      <td></td>\n",
       "      <td></td>\n",
       "    </tr>\n",
       "    <tr>\n",
       "      <th>25</th>\n",
       "      <td></td>\n",
       "      <td></td>\n",
       "    </tr>\n",
       "    <tr>\n",
       "      <th>30</th>\n",
       "      <td></td>\n",
       "      <td></td>\n",
       "    </tr>\n",
       "    <tr>\n",
       "      <th rowspan=\"6\" valign=\"top\">10</th>\n",
       "      <th>5</th>\n",
       "      <td></td>\n",
       "      <td></td>\n",
       "    </tr>\n",
       "    <tr>\n",
       "      <th>10</th>\n",
       "      <td></td>\n",
       "      <td></td>\n",
       "    </tr>\n",
       "    <tr>\n",
       "      <th>15</th>\n",
       "      <td></td>\n",
       "      <td></td>\n",
       "    </tr>\n",
       "    <tr>\n",
       "      <th>20</th>\n",
       "      <td></td>\n",
       "      <td></td>\n",
       "    </tr>\n",
       "    <tr>\n",
       "      <th>25</th>\n",
       "      <td></td>\n",
       "      <td></td>\n",
       "    </tr>\n",
       "    <tr>\n",
       "      <th>30</th>\n",
       "      <td></td>\n",
       "      <td></td>\n",
       "    </tr>\n",
       "    <tr>\n",
       "      <th rowspan=\"6\" valign=\"top\">20</th>\n",
       "      <th>5</th>\n",
       "      <td></td>\n",
       "      <td></td>\n",
       "    </tr>\n",
       "    <tr>\n",
       "      <th>10</th>\n",
       "      <td></td>\n",
       "      <td></td>\n",
       "    </tr>\n",
       "    <tr>\n",
       "      <th>15</th>\n",
       "      <td></td>\n",
       "      <td></td>\n",
       "    </tr>\n",
       "    <tr>\n",
       "      <th>20</th>\n",
       "      <td></td>\n",
       "      <td></td>\n",
       "    </tr>\n",
       "    <tr>\n",
       "      <th>25</th>\n",
       "      <td></td>\n",
       "      <td></td>\n",
       "    </tr>\n",
       "    <tr>\n",
       "      <th>30</th>\n",
       "      <td></td>\n",
       "      <td></td>\n",
       "    </tr>\n",
       "    <tr>\n",
       "      <th rowspan=\"6\" valign=\"top\">50</th>\n",
       "      <th>5</th>\n",
       "      <td></td>\n",
       "      <td></td>\n",
       "    </tr>\n",
       "    <tr>\n",
       "      <th>10</th>\n",
       "      <td></td>\n",
       "      <td></td>\n",
       "    </tr>\n",
       "    <tr>\n",
       "      <th>15</th>\n",
       "      <td></td>\n",
       "      <td></td>\n",
       "    </tr>\n",
       "    <tr>\n",
       "      <th>20</th>\n",
       "      <td></td>\n",
       "      <td></td>\n",
       "    </tr>\n",
       "    <tr>\n",
       "      <th>25</th>\n",
       "      <td></td>\n",
       "      <td></td>\n",
       "    </tr>\n",
       "    <tr>\n",
       "      <th>30</th>\n",
       "      <td></td>\n",
       "      <td></td>\n",
       "    </tr>\n",
       "    <tr>\n",
       "      <th rowspan=\"6\" valign=\"top\">100</th>\n",
       "      <th>5</th>\n",
       "      <td></td>\n",
       "      <td></td>\n",
       "    </tr>\n",
       "    <tr>\n",
       "      <th>10</th>\n",
       "      <td></td>\n",
       "      <td></td>\n",
       "    </tr>\n",
       "    <tr>\n",
       "      <th>15</th>\n",
       "      <td></td>\n",
       "      <td></td>\n",
       "    </tr>\n",
       "    <tr>\n",
       "      <th>20</th>\n",
       "      <td></td>\n",
       "      <td></td>\n",
       "    </tr>\n",
       "    <tr>\n",
       "      <th>25</th>\n",
       "      <td></td>\n",
       "      <td></td>\n",
       "    </tr>\n",
       "    <tr>\n",
       "      <th>30</th>\n",
       "      <td></td>\n",
       "      <td></td>\n",
       "    </tr>\n",
       "  </tbody>\n",
       "</table>\n",
       "</div>"
      ],
      "text/plain": [
       "                                                Eficiencia en validacion  \\\n",
       "Numero de arboles Variables analizadas por nodo                            \n",
       "5                 5                                                        \n",
       "                  10                                                       \n",
       "                  15                                                       \n",
       "                  20                                                       \n",
       "                  25                                                       \n",
       "                  30                                                       \n",
       "10                5                                                        \n",
       "                  10                                                       \n",
       "                  15                                                       \n",
       "                  20                                                       \n",
       "                  25                                                       \n",
       "                  30                                                       \n",
       "20                5                                                        \n",
       "                  10                                                       \n",
       "                  15                                                       \n",
       "                  20                                                       \n",
       "                  25                                                       \n",
       "                  30                                                       \n",
       "50                5                                                        \n",
       "                  10                                                       \n",
       "                  15                                                       \n",
       "                  20                                                       \n",
       "                  25                                                       \n",
       "                  30                                                       \n",
       "100               5                                                        \n",
       "                  10                                                       \n",
       "                  15                                                       \n",
       "                  20                                                       \n",
       "                  25                                                       \n",
       "                  30                                                       \n",
       "\n",
       "                                                Intervalo de confianza  \n",
       "Numero de arboles Variables analizadas por nodo                         \n",
       "5                 5                                                     \n",
       "                  10                                                    \n",
       "                  15                                                    \n",
       "                  20                                                    \n",
       "                  25                                                    \n",
       "                  30                                                    \n",
       "10                5                                                     \n",
       "                  10                                                    \n",
       "                  15                                                    \n",
       "                  20                                                    \n",
       "                  25                                                    \n",
       "                  30                                                    \n",
       "20                5                                                     \n",
       "                  10                                                    \n",
       "                  15                                                    \n",
       "                  20                                                    \n",
       "                  25                                                    \n",
       "                  30                                                    \n",
       "50                5                                                     \n",
       "                  10                                                    \n",
       "                  15                                                    \n",
       "                  20                                                    \n",
       "                  25                                                    \n",
       "                  30                                                    \n",
       "100               5                                                     \n",
       "                  10                                                    \n",
       "                  15                                                    \n",
       "                  20                                                    \n",
       "                  25                                                    \n",
       "                  30                                                    "
      ]
     },
     "execution_count": 115,
     "metadata": {},
     "output_type": "execute_result"
    }
   ],
   "source": [
    "qgrid_widget.get_changed_df()"
   ]
  },
  {
   "cell_type": "code",
   "execution_count": 126,
   "metadata": {},
   "outputs": [
    {
     "name": "stdout",
     "output_type": "stream",
     "text": [
      "RANDOM FOREST\n",
      "Eficiencia durante el entrenamiento = 0.996293697263+-0.0013155375754\n",
      "Eficiencia durante la validación = 0.914029109091+-0.0413224756139\n",
      "BAGGING\n",
      "Eficiencia durante el entrenamiento = 0.994917644826+-0.00494658319937\n",
      "Eficiencia durante la validación = 0.905648703482+-0.0376147565053\n"
     ]
    }
   ],
   "source": [
    "#Validamos el modelo\n",
    "Folds = 4\n",
    "random.seed(19680801)\n",
    "EficienciaTrain = np.zeros(Folds)\n",
    "EficienciaVal = np.zeros(Folds)\n",
    "#Bagging\n",
    "EficienciaTrainBagging = np.zeros(Folds)\n",
    "EficienciaValBagging =  np.zeros(Folds)\n",
    "skf = StratifiedKFold(n_splits=Folds)\n",
    "j = 0\n",
    "for train, test in skf.split(X, Y):\n",
    "    Xtrain = X[train,:]\n",
    "    Ytrain = Y[train]\n",
    "    Xtest = X[test,:]\n",
    "    Ytest = Y[test]\n",
    "    \n",
    "    #Normalizamos los datos\n",
    "    media = np.mean(Xtrain)\n",
    "    desvia = np.std(Xtrain)\n",
    "    Xtrain = sc.stats.stats.zscore(Xtrain)\n",
    "    Xtest = (Xtest - np.matlib.repmat(media, Xtest.shape[0], 1))/np.matlib.repmat(desvia, Xtest.shape[0], 1)\n",
    "    \n",
    "    #Haga el llamado a la función para crear y entrenar el modelo usando los datos de entrenamiento\n",
    "    # Model RandomForest\n",
    "    modelRandomForest = randomForestClassifierTrain(Xtrain,Ytrain,5,39)\n",
    "    # Model Bagging\n",
    "    modelBagging = BaggingClassifierTrain(Xtrain,Ytrain,5,39)\n",
    "    \n",
    "    #Validación RandomForest\n",
    "    Ytrain_predRandomForest =randomForestClassifierValidation(Xtrain,modelRandomForest) #Use el modelo previamente entrenado para hacer predicciones con las mismas muestras de entrenamiento\n",
    "    YestRandomForest =randomForestClassifierValidation(Xtest,modelRandomForest) #Use el modelo previamente entrenado para hacer predicciones con las muestras de test\n",
    "    \n",
    "    #Validación Bagging\n",
    "    Ytrain_predBagging =BaggingClassifierValidation(Xtrain,modelBagging) #Use el modelo previamente entrenado para hacer predicciones con las mismas muestras de entrenamiento\n",
    "    YestBagging =BaggingClassifierValidation(Xtest,modelBagging) #Use el modelo previamente entrenado para hacer predicciones con las muestras de test\n",
    "       \n",
    "    # RandomForest Evaluamos las predicciones del modelo con los datos de test\n",
    "    EficienciaTrain[j] = np.mean(Ytrain_predRandomForest.ravel() == Ytrain.ravel())\n",
    "    EficienciaVal[j] = np.mean(YestRandomForest.ravel() == Ytest.ravel())\n",
    "    \n",
    "     # Bagging Evaluamos las predicciones del modelo con los datos de test\n",
    "    EficienciaTrainBagging[j] = np.mean(Ytrain_predBagging.ravel() == Ytrain.ravel())\n",
    "    EficienciaValBagging[j] = np.mean(YestBagging.ravel() == Ytest.ravel())\n",
    "    j += 1\n",
    "        \n",
    "print(\"RANDOM FOREST\")        \n",
    "print('Eficiencia durante el entrenamiento = ' + str(np.mean(EficienciaTrain)) + '+-' + str(np.std(EficienciaTrain)))\n",
    "print('Eficiencia durante la validación = ' + str(np.mean(EficienciaVal)) + '+-' + str(np.std(EficienciaVal)))\n",
    "print(\"BAGGING\")\n",
    "print('Eficiencia durante el entrenamiento = ' + str(np.mean(EficienciaTrainBagging)) + '+-' + str(np.std(EficienciaTrainBagging)))\n",
    "print('Eficiencia durante la validación = ' + str(np.mean(EficienciaValBagging)) + '+-' + str(np.std(EficienciaValBagging)))\n"
   ]
  },
  {
   "cell_type": "markdown",
   "metadata": {},
   "source": [
    "Responda:\n",
    "    \n",
    "3.1 Realice una prueba adicional empleando el total de variables para la selección del mejor umbral en cada nodo ¿De acuerdo con los resultados es mejor usar un bagging de árboles o Random Forest? Explique su respuesta.    "
   ]
  },
  {
   "cell_type": "markdown",
   "metadata": {},
   "source": [
    "**R//:** Si comparamos minuciosamente los valores de la eficiencia para ambos algoritmos, tanto en la fase de entrenamiento como en la de validación se puede notar que en el Random Forest es mas eficiente, pero la diferencia es muy minima."
   ]
  },
  {
   "cell_type": "markdown",
   "metadata": {},
   "source": [
    "## Ejercicio 4\n",
    "\n",
    "Utilice el paquete time (instrucción time.clock()) para medir el efecto del número de árboles y de la cantidad de variables a analizar por nodo, en el tiempo que tarda el entrenamiento del modelo Random Forest. Construya una gráfica de tiempo vs número de árboles, dejando constante el número de variables en 20, y una gráfica de tiempo vs número de variables dejando constante el número de árboles en 30."
   ]
  },
  {
   "cell_type": "code",
   "execution_count": 139,
   "metadata": {},
   "outputs": [
    {
     "data": {
      "image/png": "[encoded data removed]",
      "text/plain": [
       "<matplotlib.figure.Figure at 0x1de592cc3c8>"
      ]
     },
     "metadata": {},
     "output_type": "display_data"
    }
   ],
   "source": [
    "import time\n",
    "tress =[5,10,20,50,100]\n",
    "times = []\n",
    "for tree in tress:\n",
    "    start = time.clock()\n",
    "    modelRandomForesClassifier = randomForestClassifierTrain(Xtrain,Ytrain,tree,20)\n",
    "    Yest =randomForestClassifierValidation(Xtest,modelRandomForesClassifier) \n",
    "    finish =time.clock()-start\n",
    "    times.append(finish)\n",
    "times\n",
    "\n",
    "plt.figure()\n",
    "plt.plot(times,tress,'o-')\n",
    "plt.show()"
   ]
  },
  {
   "cell_type": "code",
   "execution_count": 141,
   "metadata": {},
   "outputs": [
    {
     "data": {
      "image/png": "[encoded data removed]",
      "text/plain": [
       "<matplotlib.figure.Figure at 0x1de581c73c8>"
      ]
     },
     "metadata": {},
     "output_type": "display_data"
    }
   ],
   "source": [
    "features =[5,10,15,20,30,39]\n",
    "times = []\n",
    "for feature in features:\n",
    "    start = time.clock()\n",
    "    modelRandomForesClassifier = randomForestClassifierTrain(Xtrain,Ytrain,30,feature)\n",
    "    Yest =randomForestClassifierValidation(Xtest,modelRandomForesClassifier)\n",
    "    finish =time.clock()-start\n",
    "    times.append(finish)\n",
    "\n",
    "plt.figure()\n",
    "plt.plot(times,features,'o-')\n",
    "plt.show()"
   ]
  },
  {
   "cell_type": "code",
   "execution_count": null,
   "metadata": {
    "collapsed": true
   },
   "outputs": [],
   "source": []
  }
 ],
 "metadata": {
  "kernelspec": {
   "display_name": "Python 3",
   "language": "python",
   "name": "python3"
  },
  "language_info": {
   "codemirror_mode": {
    "name": "ipython",
    "version": 3
   },
   "file_extension": ".py",
   "mimetype": "text/x-python",
   "name": "python",
   "nbconvert_exporter": "python",
   "pygments_lexer": "ipython3",
   "version": "3.6.3"
  }
 },
 "nbformat": 4,
 "nbformat_minor": 2
}
